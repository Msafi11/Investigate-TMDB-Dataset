{
 "cells": [
  {
   "cell_type": "markdown",
   "metadata": {
    "slideshow": {
     "slide_type": "-"
    }
   },
   "source": [
    "# Project: TMDB-MOVIES-DATASET! ANALYSIS\n",
    "\n",
    "## Table of Contents\n",
    "<ul>\n",
    "<li><a href=\"#intro\">Introduction</a></li>\n",
    "<li><a href=\"#wrangling\">Data Wrangling</a></li>\n",
    "<li><a href=\"#eda\">Exploratory Data Analysis</a></li>\n",
    "<li><a href=\"#conclusion\">Conclusions</a></li>\n",
    "</ul>"
   ]
  },
  {
   "cell_type": "markdown",
   "metadata": {},
   "source": [
    "<a id='intro'></a>\n",
    "## Introduction\n",
    "### i-Which dataset analyzed : TMDB Dataset\n",
    "### ii-The questions posed : \n",
    "#### 1- Number of Movies released over years\n",
    "#### 2- Movies profit over years\n",
    "#### 3- Top 10 Directors over all time\n",
    "#### 4- Top 10 Prodcution Companies over all time\n",
    "#### 5- Top 10 Movie Genres over all time\n",
    "#### 6- Top 10 actors over all time\n",
    "#### 7- Top 10 watched movies\n",
    "#### 8- Top 10 rated movies\n",
    "#### 9- Top 10 popular movies\n",
    "#### 10- Top 10 actors do which genres more ?"
   ]
  },
  {
   "cell_type": "code",
   "execution_count": 2,
   "metadata": {},
   "outputs": [],
   "source": [
    "#pip pandas squarify --> if not installed\n",
    "#pip numpy squarify --> if not installed\n",
    "#pip matplotlib squarify --> if not installed\n",
    "#pip seaborn squarify --> if not installed\n",
    "#pip install squarify --> if not installed\n",
    "import pandas as pd\n",
    "import numpy as np\n",
    "import matplotlib.pyplot as plt\n",
    "import seaborn as sns \n",
    "import squarify\n",
    "import warnings\n",
    "warnings.filterwarnings('ignore')"
   ]
  },
  {
   "cell_type": "markdown",
   "metadata": {},
   "source": [
    "<a id='wrangling'></a>\n",
    "## Data Wrangling\n",
    "\n",
    "\n",
    "### 1-Data Head"
   ]
  },
  {
   "cell_type": "code",
   "execution_count": 3,
   "metadata": {},
   "outputs": [
    {
     "data": {
      "text/html": [
       "<div>\n",
       "<style scoped>\n",
       "    .dataframe tbody tr th:only-of-type {\n",
       "        vertical-align: middle;\n",
       "    }\n",
       "\n",
       "    .dataframe tbody tr th {\n",
       "        vertical-align: top;\n",
       "    }\n",
       "\n",
       "    .dataframe thead th {\n",
       "        text-align: right;\n",
       "    }\n",
       "</style>\n",
       "<table border=\"1\" class=\"dataframe\">\n",
       "  <thead>\n",
       "    <tr style=\"text-align: right;\">\n",
       "      <th></th>\n",
       "      <th>id</th>\n",
       "      <th>imdb_id</th>\n",
       "      <th>popularity</th>\n",
       "      <th>budget</th>\n",
       "      <th>revenue</th>\n",
       "      <th>original_title</th>\n",
       "      <th>cast</th>\n",
       "      <th>homepage</th>\n",
       "      <th>director</th>\n",
       "      <th>tagline</th>\n",
       "      <th>...</th>\n",
       "      <th>overview</th>\n",
       "      <th>runtime</th>\n",
       "      <th>genres</th>\n",
       "      <th>production_companies</th>\n",
       "      <th>release_date</th>\n",
       "      <th>vote_count</th>\n",
       "      <th>vote_average</th>\n",
       "      <th>release_year</th>\n",
       "      <th>budget_adj</th>\n",
       "      <th>revenue_adj</th>\n",
       "    </tr>\n",
       "  </thead>\n",
       "  <tbody>\n",
       "    <tr>\n",
       "      <th>0</th>\n",
       "      <td>135397</td>\n",
       "      <td>tt0369610</td>\n",
       "      <td>32.985763</td>\n",
       "      <td>150000000</td>\n",
       "      <td>1513528810</td>\n",
       "      <td>Jurassic World</td>\n",
       "      <td>Chris Pratt|Bryce Dallas Howard|Irrfan Khan|Vi...</td>\n",
       "      <td>http://www.jurassicworld.com/</td>\n",
       "      <td>Colin Trevorrow</td>\n",
       "      <td>The park is open.</td>\n",
       "      <td>...</td>\n",
       "      <td>Twenty-two years after the events of Jurassic ...</td>\n",
       "      <td>124</td>\n",
       "      <td>Action|Adventure|Science Fiction|Thriller</td>\n",
       "      <td>Universal Studios|Amblin Entertainment|Legenda...</td>\n",
       "      <td>6/9/15</td>\n",
       "      <td>5562</td>\n",
       "      <td>6.5</td>\n",
       "      <td>2015</td>\n",
       "      <td>1.379999e+08</td>\n",
       "      <td>1.392446e+09</td>\n",
       "    </tr>\n",
       "    <tr>\n",
       "      <th>1</th>\n",
       "      <td>76341</td>\n",
       "      <td>tt1392190</td>\n",
       "      <td>28.419936</td>\n",
       "      <td>150000000</td>\n",
       "      <td>378436354</td>\n",
       "      <td>Mad Max: Fury Road</td>\n",
       "      <td>Tom Hardy|Charlize Theron|Hugh Keays-Byrne|Nic...</td>\n",
       "      <td>http://www.madmaxmovie.com/</td>\n",
       "      <td>George Miller</td>\n",
       "      <td>What a Lovely Day.</td>\n",
       "      <td>...</td>\n",
       "      <td>An apocalyptic story set in the furthest reach...</td>\n",
       "      <td>120</td>\n",
       "      <td>Action|Adventure|Science Fiction|Thriller</td>\n",
       "      <td>Village Roadshow Pictures|Kennedy Miller Produ...</td>\n",
       "      <td>5/13/15</td>\n",
       "      <td>6185</td>\n",
       "      <td>7.1</td>\n",
       "      <td>2015</td>\n",
       "      <td>1.379999e+08</td>\n",
       "      <td>3.481613e+08</td>\n",
       "    </tr>\n",
       "    <tr>\n",
       "      <th>2</th>\n",
       "      <td>262500</td>\n",
       "      <td>tt2908446</td>\n",
       "      <td>13.112507</td>\n",
       "      <td>110000000</td>\n",
       "      <td>295238201</td>\n",
       "      <td>Insurgent</td>\n",
       "      <td>Shailene Woodley|Theo James|Kate Winslet|Ansel...</td>\n",
       "      <td>http://www.thedivergentseries.movie/#insurgent</td>\n",
       "      <td>Robert Schwentke</td>\n",
       "      <td>One Choice Can Destroy You</td>\n",
       "      <td>...</td>\n",
       "      <td>Beatrice Prior must confront her inner demons ...</td>\n",
       "      <td>119</td>\n",
       "      <td>Adventure|Science Fiction|Thriller</td>\n",
       "      <td>Summit Entertainment|Mandeville Films|Red Wago...</td>\n",
       "      <td>3/18/15</td>\n",
       "      <td>2480</td>\n",
       "      <td>6.3</td>\n",
       "      <td>2015</td>\n",
       "      <td>1.012000e+08</td>\n",
       "      <td>2.716190e+08</td>\n",
       "    </tr>\n",
       "    <tr>\n",
       "      <th>3</th>\n",
       "      <td>140607</td>\n",
       "      <td>tt2488496</td>\n",
       "      <td>11.173104</td>\n",
       "      <td>200000000</td>\n",
       "      <td>2068178225</td>\n",
       "      <td>Star Wars: The Force Awakens</td>\n",
       "      <td>Harrison Ford|Mark Hamill|Carrie Fisher|Adam D...</td>\n",
       "      <td>http://www.starwars.com/films/star-wars-episod...</td>\n",
       "      <td>J.J. Abrams</td>\n",
       "      <td>Every generation has a story.</td>\n",
       "      <td>...</td>\n",
       "      <td>Thirty years after defeating the Galactic Empi...</td>\n",
       "      <td>136</td>\n",
       "      <td>Action|Adventure|Science Fiction|Fantasy</td>\n",
       "      <td>Lucasfilm|Truenorth Productions|Bad Robot</td>\n",
       "      <td>12/15/15</td>\n",
       "      <td>5292</td>\n",
       "      <td>7.5</td>\n",
       "      <td>2015</td>\n",
       "      <td>1.839999e+08</td>\n",
       "      <td>1.902723e+09</td>\n",
       "    </tr>\n",
       "    <tr>\n",
       "      <th>4</th>\n",
       "      <td>168259</td>\n",
       "      <td>tt2820852</td>\n",
       "      <td>9.335014</td>\n",
       "      <td>190000000</td>\n",
       "      <td>1506249360</td>\n",
       "      <td>Furious 7</td>\n",
       "      <td>Vin Diesel|Paul Walker|Jason Statham|Michelle ...</td>\n",
       "      <td>http://www.furious7.com/</td>\n",
       "      <td>James Wan</td>\n",
       "      <td>Vengeance Hits Home</td>\n",
       "      <td>...</td>\n",
       "      <td>Deckard Shaw seeks revenge against Dominic Tor...</td>\n",
       "      <td>137</td>\n",
       "      <td>Action|Crime|Thriller</td>\n",
       "      <td>Universal Pictures|Original Film|Media Rights ...</td>\n",
       "      <td>4/1/15</td>\n",
       "      <td>2947</td>\n",
       "      <td>7.3</td>\n",
       "      <td>2015</td>\n",
       "      <td>1.747999e+08</td>\n",
       "      <td>1.385749e+09</td>\n",
       "    </tr>\n",
       "  </tbody>\n",
       "</table>\n",
       "<p>5 rows × 21 columns</p>\n",
       "</div>"
      ],
      "text/plain": [
       "       id    imdb_id  popularity     budget     revenue  \\\n",
       "0  135397  tt0369610   32.985763  150000000  1513528810   \n",
       "1   76341  tt1392190   28.419936  150000000   378436354   \n",
       "2  262500  tt2908446   13.112507  110000000   295238201   \n",
       "3  140607  tt2488496   11.173104  200000000  2068178225   \n",
       "4  168259  tt2820852    9.335014  190000000  1506249360   \n",
       "\n",
       "                 original_title  \\\n",
       "0                Jurassic World   \n",
       "1            Mad Max: Fury Road   \n",
       "2                     Insurgent   \n",
       "3  Star Wars: The Force Awakens   \n",
       "4                     Furious 7   \n",
       "\n",
       "                                                cast  \\\n",
       "0  Chris Pratt|Bryce Dallas Howard|Irrfan Khan|Vi...   \n",
       "1  Tom Hardy|Charlize Theron|Hugh Keays-Byrne|Nic...   \n",
       "2  Shailene Woodley|Theo James|Kate Winslet|Ansel...   \n",
       "3  Harrison Ford|Mark Hamill|Carrie Fisher|Adam D...   \n",
       "4  Vin Diesel|Paul Walker|Jason Statham|Michelle ...   \n",
       "\n",
       "                                            homepage          director  \\\n",
       "0                      http://www.jurassicworld.com/   Colin Trevorrow   \n",
       "1                        http://www.madmaxmovie.com/     George Miller   \n",
       "2     http://www.thedivergentseries.movie/#insurgent  Robert Schwentke   \n",
       "3  http://www.starwars.com/films/star-wars-episod...       J.J. Abrams   \n",
       "4                           http://www.furious7.com/         James Wan   \n",
       "\n",
       "                         tagline  ...  \\\n",
       "0              The park is open.  ...   \n",
       "1             What a Lovely Day.  ...   \n",
       "2     One Choice Can Destroy You  ...   \n",
       "3  Every generation has a story.  ...   \n",
       "4            Vengeance Hits Home  ...   \n",
       "\n",
       "                                            overview runtime  \\\n",
       "0  Twenty-two years after the events of Jurassic ...     124   \n",
       "1  An apocalyptic story set in the furthest reach...     120   \n",
       "2  Beatrice Prior must confront her inner demons ...     119   \n",
       "3  Thirty years after defeating the Galactic Empi...     136   \n",
       "4  Deckard Shaw seeks revenge against Dominic Tor...     137   \n",
       "\n",
       "                                      genres  \\\n",
       "0  Action|Adventure|Science Fiction|Thriller   \n",
       "1  Action|Adventure|Science Fiction|Thriller   \n",
       "2         Adventure|Science Fiction|Thriller   \n",
       "3   Action|Adventure|Science Fiction|Fantasy   \n",
       "4                      Action|Crime|Thriller   \n",
       "\n",
       "                                production_companies release_date vote_count  \\\n",
       "0  Universal Studios|Amblin Entertainment|Legenda...       6/9/15       5562   \n",
       "1  Village Roadshow Pictures|Kennedy Miller Produ...      5/13/15       6185   \n",
       "2  Summit Entertainment|Mandeville Films|Red Wago...      3/18/15       2480   \n",
       "3          Lucasfilm|Truenorth Productions|Bad Robot     12/15/15       5292   \n",
       "4  Universal Pictures|Original Film|Media Rights ...       4/1/15       2947   \n",
       "\n",
       "   vote_average  release_year    budget_adj   revenue_adj  \n",
       "0           6.5          2015  1.379999e+08  1.392446e+09  \n",
       "1           7.1          2015  1.379999e+08  3.481613e+08  \n",
       "2           6.3          2015  1.012000e+08  2.716190e+08  \n",
       "3           7.5          2015  1.839999e+08  1.902723e+09  \n",
       "4           7.3          2015  1.747999e+08  1.385749e+09  \n",
       "\n",
       "[5 rows x 21 columns]"
      ]
     },
     "execution_count": 3,
     "metadata": {},
     "output_type": "execute_result"
    }
   ],
   "source": [
    "\n",
    "filename  = \"tmdb-movies.csv\"\n",
    "\n",
    "def get_data(filename):\n",
    "    missing_values = [\"n/a\", \"na\", \"--\",\" \"]\n",
    "    return pd.read_csv(filename,na_values = missing_values,sep=\",\")\n",
    "df = get_data(filename)\n",
    "df.head()"
   ]
  },
  {
   "cell_type": "markdown",
   "metadata": {},
   "source": [
    "### 2-Data Information "
   ]
  },
  {
   "cell_type": "code",
   "execution_count": 3,
   "metadata": {},
   "outputs": [
    {
     "name": "stdout",
     "output_type": "stream",
     "text": [
      "<class 'pandas.core.frame.DataFrame'>\n",
      "RangeIndex: 10866 entries, 0 to 10865\n",
      "Data columns (total 21 columns):\n",
      " #   Column                Non-Null Count  Dtype  \n",
      "---  ------                --------------  -----  \n",
      " 0   id                    10866 non-null  int64  \n",
      " 1   imdb_id               10856 non-null  object \n",
      " 2   popularity            10866 non-null  float64\n",
      " 3   budget                10866 non-null  int64  \n",
      " 4   revenue               10866 non-null  int64  \n",
      " 5   original_title        10866 non-null  object \n",
      " 6   cast                  10790 non-null  object \n",
      " 7   homepage              2936 non-null   object \n",
      " 8   director              10822 non-null  object \n",
      " 9   tagline               8042 non-null   object \n",
      " 10  keywords              9373 non-null   object \n",
      " 11  overview              10862 non-null  object \n",
      " 12  runtime               10866 non-null  int64  \n",
      " 13  genres                10843 non-null  object \n",
      " 14  production_companies  9836 non-null   object \n",
      " 15  release_date          10866 non-null  object \n",
      " 16  vote_count            10866 non-null  int64  \n",
      " 17  vote_average          10866 non-null  float64\n",
      " 18  release_year          10866 non-null  int64  \n",
      " 19  budget_adj            10866 non-null  float64\n",
      " 20  revenue_adj           10866 non-null  float64\n",
      "dtypes: float64(4), int64(6), object(11)\n",
      "memory usage: 1.7+ MB\n"
     ]
    }
   ],
   "source": [
    "df.info()"
   ]
  },
  {
   "cell_type": "code",
   "execution_count": 4,
   "metadata": {},
   "outputs": [
    {
     "name": "stdout",
     "output_type": "stream",
     "text": [
      "The data has 10866 Rows & 21 Columns : \n",
      "id\n",
      "imdb_id\n",
      "popularity\n",
      "budget\n",
      "revenue\n",
      "original_title\n",
      "cast\n",
      "homepage\n",
      "director\n",
      "tagline\n",
      "keywords\n",
      "overview\n",
      "runtime\n",
      "genres\n",
      "production_companies\n",
      "release_date\n",
      "vote_count\n",
      "vote_average\n",
      "release_year\n",
      "budget_adj\n",
      "revenue_adj\n",
      "We have 56 years data from year 1960 to year 2015: \n",
      "[2015 2014 1977 2009 2010 1999 2001 2008 2011 2002 1994 2012 2003 1997\n",
      " 2013 1985 2005 2006 2004 1972 1980 2007 1979 1984 1983 1995 1992 1981\n",
      " 1996 2000 1982 1998 1989 1991 1988 1987 1968 1974 1975 1962 1964 1971\n",
      " 1990 1961 1960 1976 1993 1967 1963 1986 1973 1970 1965 1969 1978 1966]\n"
     ]
    }
   ],
   "source": [
    "print(\"The data has \"+ str(df.shape[0]) +\" Rows & \" + str(df.shape[1])  + \" Columns : \")\n",
    "for col in df.columns:\n",
    "    print(col)\n",
    "    \n",
    "print(\"We have \"+ str(len(df[\"release_year\"].unique())) + \" years data from year \" + str(df[\"release_year\"].min()) + \" to year \" + str(df[\"release_year\"].max()) + \": \")\n",
    "print(df[\"release_year\"].unique())"
   ]
  },
  {
   "cell_type": "markdown",
   "metadata": {},
   "source": [
    "### 3-Check if there is any missing in data"
   ]
  },
  {
   "cell_type": "code",
   "execution_count": 5,
   "metadata": {},
   "outputs": [
    {
     "name": "stdout",
     "output_type": "stream",
     "text": [
      "There is missing in data\n",
      "                 column  # of missings\n",
      "0               imdb_id             10\n",
      "1                  cast             76\n",
      "2              homepage           7930\n",
      "3              director             44\n",
      "4               tagline           2824\n",
      "5              keywords           1493\n",
      "6              overview              4\n",
      "7                genres             23\n",
      "8  production_companies           1030\n"
     ]
    },
    {
     "data": {
      "image/png": "[encoded data removed]",
      "text/plain": [
       "<Figure size 432x432 with 1 Axes>"
      ]
     },
     "metadata": {
      "needs_background": "light"
     },
     "output_type": "display_data"
    }
   ],
   "source": [
    "names = []\n",
    "values = []\n",
    "def check_missing(df):\n",
    "    if df.isnull().values.any() :\n",
    "        print(\"There is missing in data\")\n",
    "        return True\n",
    "    else:\n",
    "        print(\"Data is cleaned & ready to be analyzed\")\n",
    "        return False\n",
    "\n",
    "            \n",
    "\n",
    "if(check_missing(df)):\n",
    "    for col_name in df.columns:\n",
    "        if df[col_name].isnull().any() :\n",
    "            #print(col_name + \" column has \"+str(df[col_name].isnull().sum())+\" missing values\")\n",
    "            names.append(col_name)\n",
    "            values.append(df[col_name].isnull().sum())\n",
    "            \n",
    "    missing = {\"column\":names,\n",
    "              \"# of missings\":values}\n",
    "    missingDf = pd.DataFrame(missing)\n",
    "    print(missingDf)\n",
    "    missingDf.plot.bar(x=\"column\",y='# of missings', figsize=(6, 6),ylabel=\"# of missing\",xlabel = \"Column\",color=\"red\")\n",
    "\n"
   ]
  },
  {
   "cell_type": "markdown",
   "metadata": {},
   "source": [
    "### Summary of the graph : \n",
    "####  The column with the highest number of missings is -> homepage\n",
    "####  The column with the lowest number of missings is -> genres"
   ]
  },
  {
   "cell_type": "markdown",
   "metadata": {},
   "source": [
    "### 4-Check if there is any duplicated data"
   ]
  },
  {
   "cell_type": "code",
   "execution_count": 6,
   "metadata": {},
   "outputs": [
    {
     "data": {
      "text/html": [
       "<div>\n",
       "<style scoped>\n",
       "    .dataframe tbody tr th:only-of-type {\n",
       "        vertical-align: middle;\n",
       "    }\n",
       "\n",
       "    .dataframe tbody tr th {\n",
       "        vertical-align: top;\n",
       "    }\n",
       "\n",
       "    .dataframe thead th {\n",
       "        text-align: right;\n",
       "    }\n",
       "</style>\n",
       "<table border=\"1\" class=\"dataframe\">\n",
       "  <thead>\n",
       "    <tr style=\"text-align: right;\">\n",
       "      <th></th>\n",
       "      <th>id</th>\n",
       "      <th>imdb_id</th>\n",
       "      <th>popularity</th>\n",
       "      <th>budget</th>\n",
       "      <th>revenue</th>\n",
       "      <th>original_title</th>\n",
       "      <th>cast</th>\n",
       "      <th>homepage</th>\n",
       "      <th>director</th>\n",
       "      <th>tagline</th>\n",
       "      <th>...</th>\n",
       "      <th>overview</th>\n",
       "      <th>runtime</th>\n",
       "      <th>genres</th>\n",
       "      <th>production_companies</th>\n",
       "      <th>release_date</th>\n",
       "      <th>vote_count</th>\n",
       "      <th>vote_average</th>\n",
       "      <th>release_year</th>\n",
       "      <th>budget_adj</th>\n",
       "      <th>revenue_adj</th>\n",
       "    </tr>\n",
       "  </thead>\n",
       "  <tbody>\n",
       "    <tr>\n",
       "      <th>2090</th>\n",
       "      <td>42194</td>\n",
       "      <td>tt0411951</td>\n",
       "      <td>0.59643</td>\n",
       "      <td>30000000</td>\n",
       "      <td>967000</td>\n",
       "      <td>TEKKEN</td>\n",
       "      <td>Jon Foo|Kelly Overton|Cary-Hiroyuki Tagawa|Ian...</td>\n",
       "      <td>NaN</td>\n",
       "      <td>Dwight H. Little</td>\n",
       "      <td>Survival is no game</td>\n",
       "      <td>...</td>\n",
       "      <td>In the year of 2039, after World Wars destroy ...</td>\n",
       "      <td>92</td>\n",
       "      <td>Crime|Drama|Action|Thriller|Science Fiction</td>\n",
       "      <td>Namco|Light Song Films</td>\n",
       "      <td>3/20/10</td>\n",
       "      <td>110</td>\n",
       "      <td>5.0</td>\n",
       "      <td>2010</td>\n",
       "      <td>30000000.0</td>\n",
       "      <td>967000.0</td>\n",
       "    </tr>\n",
       "  </tbody>\n",
       "</table>\n",
       "<p>1 rows × 21 columns</p>\n",
       "</div>"
      ],
      "text/plain": [
       "         id    imdb_id  popularity    budget  revenue original_title  \\\n",
       "2090  42194  tt0411951     0.59643  30000000   967000         TEKKEN   \n",
       "\n",
       "                                                   cast homepage  \\\n",
       "2090  Jon Foo|Kelly Overton|Cary-Hiroyuki Tagawa|Ian...      NaN   \n",
       "\n",
       "              director              tagline  ...  \\\n",
       "2090  Dwight H. Little  Survival is no game  ...   \n",
       "\n",
       "                                               overview runtime  \\\n",
       "2090  In the year of 2039, after World Wars destroy ...      92   \n",
       "\n",
       "                                           genres    production_companies  \\\n",
       "2090  Crime|Drama|Action|Thriller|Science Fiction  Namco|Light Song Films   \n",
       "\n",
       "     release_date vote_count  vote_average  release_year  budget_adj  \\\n",
       "2090      3/20/10        110           5.0          2010  30000000.0   \n",
       "\n",
       "      revenue_adj  \n",
       "2090     967000.0  \n",
       "\n",
       "[1 rows x 21 columns]"
      ]
     },
     "execution_count": 6,
     "metadata": {},
     "output_type": "execute_result"
    }
   ],
   "source": [
    "df[df.duplicated([\"original_title\",\"id\",\"imdb_id\"])]"
   ]
  },
  {
   "cell_type": "markdown",
   "metadata": {},
   "source": [
    "<a id='dc'></a>\n",
    "## Data Cleaning Part"
   ]
  },
  {
   "cell_type": "markdown",
   "metadata": {
    "collapsed": true
   },
   "source": [
    "### 1-Drop Unnecessary columns "
   ]
  },
  {
   "cell_type": "code",
   "execution_count": 7,
   "metadata": {},
   "outputs": [],
   "source": [
    "df = df.drop([\"homepage\",\"tagline\",\"keywords\",\"overview\",\"budget_adj\",\"revenue_adj\",\"release_date\"],axis=1)"
   ]
  },
  {
   "cell_type": "markdown",
   "metadata": {},
   "source": [
    "### 2-Drop rows with missing values "
   ]
  },
  {
   "cell_type": "code",
   "execution_count": 8,
   "metadata": {},
   "outputs": [
    {
     "name": "stdout",
     "output_type": "stream",
     "text": [
      "Data is cleaned & ready to be analyzed\n"
     ]
    }
   ],
   "source": [
    "df = df.dropna()\n",
    "assert check_missing(df) == False"
   ]
  },
  {
   "cell_type": "markdown",
   "metadata": {},
   "source": [
    "### 3-Drop Duplicates Rows "
   ]
  },
  {
   "cell_type": "code",
   "execution_count": 9,
   "metadata": {},
   "outputs": [],
   "source": [
    "df = df.drop_duplicates([\"original_title\",\"id\",\"imdb_id\"])"
   ]
  },
  {
   "cell_type": "markdown",
   "metadata": {},
   "source": [
    "### 5-Sort data based on year and date"
   ]
  },
  {
   "cell_type": "code",
   "execution_count": 10,
   "metadata": {},
   "outputs": [],
   "source": [
    "df = df.sort_values(by=[\"release_year\"],ascending=True)"
   ]
  },
  {
   "cell_type": "markdown",
   "metadata": {},
   "source": [
    "### Data After Cleaning"
   ]
  },
  {
   "cell_type": "code",
   "execution_count": 11,
   "metadata": {},
   "outputs": [
    {
     "name": "stdout",
     "output_type": "stream",
     "text": [
      "The new data has 9770 Rows & 14 Columns : \n",
      "id\n",
      "imdb_id\n",
      "popularity\n",
      "budget\n",
      "revenue\n",
      "original_title\n",
      "cast\n",
      "director\n",
      "runtime\n",
      "genres\n",
      "production_companies\n",
      "vote_count\n",
      "vote_average\n",
      "release_year\n"
     ]
    },
    {
     "data": {
      "text/html": [
       "<div>\n",
       "<style scoped>\n",
       "    .dataframe tbody tr th:only-of-type {\n",
       "        vertical-align: middle;\n",
       "    }\n",
       "\n",
       "    .dataframe tbody tr th {\n",
       "        vertical-align: top;\n",
       "    }\n",
       "\n",
       "    .dataframe thead th {\n",
       "        text-align: right;\n",
       "    }\n",
       "</style>\n",
       "<table border=\"1\" class=\"dataframe\">\n",
       "  <thead>\n",
       "    <tr style=\"text-align: right;\">\n",
       "      <th></th>\n",
       "      <th>id</th>\n",
       "      <th>imdb_id</th>\n",
       "      <th>popularity</th>\n",
       "      <th>budget</th>\n",
       "      <th>revenue</th>\n",
       "      <th>original_title</th>\n",
       "      <th>cast</th>\n",
       "      <th>director</th>\n",
       "      <th>runtime</th>\n",
       "      <th>genres</th>\n",
       "      <th>production_companies</th>\n",
       "      <th>vote_count</th>\n",
       "      <th>vote_average</th>\n",
       "      <th>release_year</th>\n",
       "    </tr>\n",
       "  </thead>\n",
       "  <tbody>\n",
       "    <tr>\n",
       "      <th>10172</th>\n",
       "      <td>1941</td>\n",
       "      <td>tt0053804</td>\n",
       "      <td>0.256779</td>\n",
       "      <td>0</td>\n",
       "      <td>0</td>\n",
       "      <td>Exodus</td>\n",
       "      <td>Paul Newman|Eva Marie Saint|Lee J. Cobb|Ralph ...</td>\n",
       "      <td>Otto Preminger</td>\n",
       "      <td>208</td>\n",
       "      <td>Action|Drama|History|War</td>\n",
       "      <td>Carlyle Productions</td>\n",
       "      <td>14</td>\n",
       "      <td>6.1</td>\n",
       "      <td>1960</td>\n",
       "    </tr>\n",
       "    <tr>\n",
       "      <th>10141</th>\n",
       "      <td>539</td>\n",
       "      <td>tt0054215</td>\n",
       "      <td>2.610362</td>\n",
       "      <td>806948</td>\n",
       "      <td>32000000</td>\n",
       "      <td>Psycho</td>\n",
       "      <td>Anthony Perkins|Vera Miles|John Gavin|Janet Le...</td>\n",
       "      <td>Alfred Hitchcock</td>\n",
       "      <td>109</td>\n",
       "      <td>Drama|Horror|Thriller</td>\n",
       "      <td>Shamley Productions</td>\n",
       "      <td>1180</td>\n",
       "      <td>8.0</td>\n",
       "      <td>1960</td>\n",
       "    </tr>\n",
       "    <tr>\n",
       "      <th>10142</th>\n",
       "      <td>966</td>\n",
       "      <td>tt0054047</td>\n",
       "      <td>1.872132</td>\n",
       "      <td>2000000</td>\n",
       "      <td>4905000</td>\n",
       "      <td>The Magnificent Seven</td>\n",
       "      <td>Yul Brynner|Eli Wallach|Steve McQueen|Charles ...</td>\n",
       "      <td>John Sturges</td>\n",
       "      <td>128</td>\n",
       "      <td>Action|Adventure|Western</td>\n",
       "      <td>The Mirisch Corporation|Alpha Productions</td>\n",
       "      <td>224</td>\n",
       "      <td>7.0</td>\n",
       "      <td>1960</td>\n",
       "    </tr>\n",
       "    <tr>\n",
       "      <th>10143</th>\n",
       "      <td>967</td>\n",
       "      <td>tt0054331</td>\n",
       "      <td>1.136943</td>\n",
       "      <td>12000000</td>\n",
       "      <td>60000000</td>\n",
       "      <td>Spartacus</td>\n",
       "      <td>Kirk Douglas|Laurence Olivier|Jean Simmons|Cha...</td>\n",
       "      <td>Stanley Kubrick</td>\n",
       "      <td>197</td>\n",
       "      <td>Action|Drama|History</td>\n",
       "      <td>Bryna Productions</td>\n",
       "      <td>211</td>\n",
       "      <td>6.9</td>\n",
       "      <td>1960</td>\n",
       "    </tr>\n",
       "    <tr>\n",
       "      <th>10144</th>\n",
       "      <td>284</td>\n",
       "      <td>tt0053604</td>\n",
       "      <td>0.947307</td>\n",
       "      <td>3000000</td>\n",
       "      <td>25000000</td>\n",
       "      <td>The Apartment</td>\n",
       "      <td>Jack Lemmon|Shirley MacLaine|Fred MacMurray|Ra...</td>\n",
       "      <td>Billy Wilder</td>\n",
       "      <td>125</td>\n",
       "      <td>Comedy|Drama|Romance</td>\n",
       "      <td>United Artists|The Mirisch Company</td>\n",
       "      <td>235</td>\n",
       "      <td>7.9</td>\n",
       "      <td>1960</td>\n",
       "    </tr>\n",
       "  </tbody>\n",
       "</table>\n",
       "</div>"
      ],
      "text/plain": [
       "         id    imdb_id  popularity    budget   revenue         original_title  \\\n",
       "10172  1941  tt0053804    0.256779         0         0                 Exodus   \n",
       "10141   539  tt0054215    2.610362    806948  32000000                 Psycho   \n",
       "10142   966  tt0054047    1.872132   2000000   4905000  The Magnificent Seven   \n",
       "10143   967  tt0054331    1.136943  12000000  60000000              Spartacus   \n",
       "10144   284  tt0053604    0.947307   3000000  25000000          The Apartment   \n",
       "\n",
       "                                                    cast          director  \\\n",
       "10172  Paul Newman|Eva Marie Saint|Lee J. Cobb|Ralph ...    Otto Preminger   \n",
       "10141  Anthony Perkins|Vera Miles|John Gavin|Janet Le...  Alfred Hitchcock   \n",
       "10142  Yul Brynner|Eli Wallach|Steve McQueen|Charles ...      John Sturges   \n",
       "10143  Kirk Douglas|Laurence Olivier|Jean Simmons|Cha...   Stanley Kubrick   \n",
       "10144  Jack Lemmon|Shirley MacLaine|Fred MacMurray|Ra...      Billy Wilder   \n",
       "\n",
       "       runtime                    genres  \\\n",
       "10172      208  Action|Drama|History|War   \n",
       "10141      109     Drama|Horror|Thriller   \n",
       "10142      128  Action|Adventure|Western   \n",
       "10143      197      Action|Drama|History   \n",
       "10144      125      Comedy|Drama|Romance   \n",
       "\n",
       "                            production_companies  vote_count  vote_average  \\\n",
       "10172                        Carlyle Productions          14           6.1   \n",
       "10141                        Shamley Productions        1180           8.0   \n",
       "10142  The Mirisch Corporation|Alpha Productions         224           7.0   \n",
       "10143                          Bryna Productions         211           6.9   \n",
       "10144         United Artists|The Mirisch Company         235           7.9   \n",
       "\n",
       "       release_year  \n",
       "10172          1960  \n",
       "10141          1960  \n",
       "10142          1960  \n",
       "10143          1960  \n",
       "10144          1960  "
      ]
     },
     "execution_count": 11,
     "metadata": {},
     "output_type": "execute_result"
    }
   ],
   "source": [
    "print(\"The new data has \"+ str(df.shape[0]) +\" Rows & \" + str(df.shape[1])  + \" Columns : \")\n",
    "for col in df.columns:\n",
    "    print(col)\n",
    "df.head()\n"
   ]
  },
  {
   "cell_type": "markdown",
   "metadata": {},
   "source": [
    "<a id='eda'></a>\n",
    "## Exploratory Data Analysis\n",
    "\n",
    "\n",
    "### Research Question 1 : Movies released over time\n",
    "#### Movies released over decades"
   ]
  },
  {
   "cell_type": "code",
   "execution_count": 12,
   "metadata": {},
   "outputs": [],
   "source": [
    "df['decade'] = pd.cut(x=df['release_year'], bins=[1960, 1970, 1980, 1990 , 2000 , np.inf], labels=['the_60s', 'the_70s','the_80s', 'the_90s','the_2000s'], right=False)"
   ]
  },
  {
   "cell_type": "code",
   "execution_count": 13,
   "metadata": {},
   "outputs": [
    {
     "data": {
      "text/plain": [
       "Text(0.5, 0, 'Decade')"
      ]
     },
     "execution_count": 13,
     "metadata": {},
     "output_type": "execute_result"
    },
    {
     "data": {
      "image/png": "[encoded data removed]",
      "text/plain": [
       "<Figure size 432x288 with 1 Axes>"
      ]
     },
     "metadata": {
      "needs_background": "light"
     },
     "output_type": "display_data"
    },
    {
     "data": {
      "image/png": "[encoded data removed]",
      "text/plain": [
       "<Figure size 432x288 with 1 Axes>"
      ]
     },
     "metadata": {
      "needs_background": "light"
     },
     "output_type": "display_data"
    }
   ],
   "source": [
    "decade =  df['decade'].value_counts(sort=True,ascending=True)\n",
    "decade.plot(kind=\"bar\",title=\"# of movies over decades\",color=\"#D72323\")\n",
    "ax2 = plt.axes()\n",
    "ax2.set_facecolor(\"#EEEEEE\")\n",
    "plt.ylabel(\"# of Movies\",fontweight='bold')\n",
    "plt.xlabel(\"Decade\",fontweight='bold')\n",
    "df['decade'].value_counts().describe()\n",
    "\n",
    "decade = decade.reset_index()\n",
    "decade.columns = ['Decade', '# of Movies']\n",
    "decade.plot.scatter(x=\"Decade\",y=\"# of Movies\",title=\"# of movies over decades\",s=50,c=\"#D72323\",edgecolor=\"black\")\n",
    "ax3 = plt.axes()\n",
    "ax3.set_facecolor(\"#EEEEEE\")\n",
    "plt.ylabel(\"# of Movies\",fontweight='bold')\n",
    "plt.xlabel(\"Decade\",fontweight='bold')"
   ]
  },
  {
   "cell_type": "markdown",
   "metadata": {},
   "source": [
    "### Summary of the two graphs : \n",
    "####  The decade with the highest number of movies is -> the 60s decade\n",
    "####  The decade with the lowest number of movies is -> the 2000s decade\n",
    "#### There is a relation between the decades and the number of movies -> The number of movies is increased as the decade move forward"
   ]
  },
  {
   "cell_type": "markdown",
   "metadata": {},
   "source": [
    "#### Movies released over years\n",
    "##### 1-The 60's decade"
   ]
  },
  {
   "cell_type": "code",
   "execution_count": 14,
   "metadata": {},
   "outputs": [
    {
     "data": {
      "text/plain": [
       "count    10.000000\n",
       "mean     34.700000\n",
       "std       4.922736\n",
       "min      29.000000\n",
       "25%      30.500000\n",
       "50%      34.000000\n",
       "75%      36.750000\n",
       "max      44.000000\n",
       "Name: release_year, dtype: float64"
      ]
     },
     "execution_count": 14,
     "metadata": {},
     "output_type": "execute_result"
    },
    {
     "data": {
      "image/png": "[encoded data removed]",
      "text/plain": [
       "<Figure size 432x288 with 1 Axes>"
      ]
     },
     "metadata": {
      "needs_background": "light"
     },
     "output_type": "display_data"
    }
   ],
   "source": [
    "the_60s = pd.DataFrame(df[df[\"decade\"] == \"the_60s\"].release_year.value_counts(sort=True,ascending=True))\n",
    "the_60s.plot(kind=\"bar\",title=\"The 60's Movies\",color=\"#D72323\")\n",
    "ax = plt.axes()\n",
    "ax.set_facecolor(\"#EEEEEE\")\n",
    "plt.ylabel(\"# of Movies\",fontweight='bold')\n",
    "plt.xlabel(\"Year\",fontweight='bold')\n",
    "df[df[\"decade\"] == \"the_60s\"].release_year.value_counts(sort=False).describe()"
   ]
  },
  {
   "cell_type": "markdown",
   "metadata": {},
   "source": [
    "### Summary of the graph : \n",
    "####  The year with the highest number of movies is ->1966\n",
    "####  The year with the lowest number of movies is ->1969"
   ]
  },
  {
   "cell_type": "markdown",
   "metadata": {},
   "source": [
    "##### 2-The 70's decade"
   ]
  },
  {
   "cell_type": "code",
   "execution_count": 15,
   "metadata": {},
   "outputs": [
    {
     "data": {
      "text/plain": [
       "count    10.0000\n",
       "mean     49.1000\n",
       "std       8.2253\n",
       "min      37.0000\n",
       "25%      42.5000\n",
       "50%      50.5000\n",
       "75%      55.0000\n",
       "max      61.0000\n",
       "Name: release_year, dtype: float64"
      ]
     },
     "execution_count": 15,
     "metadata": {},
     "output_type": "execute_result"
    },
    {
     "data": {
      "image/png": "[encoded data removed]",
      "text/plain": [
       "<Figure size 432x288 with 1 Axes>"
      ]
     },
     "metadata": {
      "needs_background": "light"
     },
     "output_type": "display_data"
    }
   ],
   "source": [
    "the_70s = pd.DataFrame(df[df[\"decade\"] == \"the_70s\"].release_year.value_counts(sort=True,ascending=True))\n",
    "the_70s.plot(kind=\"bar\",title=\"The 70's Movies\",color=\"#D72323\")\n",
    "ax = plt.axes()\n",
    "ax.set_facecolor(\"#EEEEEE\")\n",
    "plt.ylabel(\"# of Movies\",fontweight='bold')\n",
    "plt.xlabel(\"Year\",fontweight='bold')\n",
    "df[df[\"decade\"] == \"the_70s\"].release_year.value_counts(sort=False).describe()"
   ]
  },
  {
   "cell_type": "markdown",
   "metadata": {},
   "source": [
    "### Summary of the graph : \n",
    "####  The year with the highest number of movies is ->1978\n",
    "####  The year with the lowest number of movies is ->1972"
   ]
  },
  {
   "cell_type": "markdown",
   "metadata": {},
   "source": [
    "##### 3-The 80's decade"
   ]
  },
  {
   "cell_type": "code",
   "execution_count": 16,
   "metadata": {},
   "outputs": [
    {
     "data": {
      "text/plain": [
       "count     10.000000\n",
       "mean      99.500000\n",
       "std       21.691012\n",
       "min       73.000000\n",
       "25%       78.500000\n",
       "50%      102.500000\n",
       "75%      112.000000\n",
       "max      132.000000\n",
       "Name: release_year, dtype: float64"
      ]
     },
     "execution_count": 16,
     "metadata": {},
     "output_type": "execute_result"
    },
    {
     "data": {
      "image/png": "[encoded data removed]",
      "text/plain": [
       "<Figure size 432x288 with 1 Axes>"
      ]
     },
     "metadata": {
      "needs_background": "light"
     },
     "output_type": "display_data"
    }
   ],
   "source": [
    "the_80s = pd.DataFrame(df[df[\"decade\"] == \"the_80s\"].release_year.value_counts(sort=True,ascending=True))\n",
    "the_80s.plot(kind=\"bar\",title=\"The 80's Movies\",color=\"#D72323\")\n",
    "ax = plt.axes()\n",
    "ax.set_facecolor(\"#EEEEEE\")\n",
    "plt.ylabel(\"# of Movies\",fontweight='bold')\n",
    "plt.xlabel(\"Year\",fontweight='bold')\n",
    "df[df[\"decade\"] == \"the_80s\"].release_year.value_counts(sort=False).describe()"
   ]
  },
  {
   "cell_type": "markdown",
   "metadata": {},
   "source": [
    "### Summary of the graph : \n",
    "####  The year with the highest number of movies is ->1988\n",
    "####  The year with the lowest number of movies is ->1980"
   ]
  },
  {
   "cell_type": "markdown",
   "metadata": {},
   "source": [
    "##### 4-The 90's decade"
   ]
  },
  {
   "cell_type": "code",
   "execution_count": 17,
   "metadata": {},
   "outputs": [
    {
     "data": {
      "text/plain": [
       "count     10.000000\n",
       "mean     167.200000\n",
       "std       31.304242\n",
       "min      125.000000\n",
       "25%      137.000000\n",
       "50%      173.000000\n",
       "75%      188.250000\n",
       "max      212.000000\n",
       "Name: release_year, dtype: float64"
      ]
     },
     "execution_count": 17,
     "metadata": {},
     "output_type": "execute_result"
    },
    {
     "data": {
      "image/png": "[encoded data removed]",
      "text/plain": [
       "<Figure size 432x288 with 1 Axes>"
      ]
     },
     "metadata": {
      "needs_background": "light"
     },
     "output_type": "display_data"
    }
   ],
   "source": [
    "the_90s = pd.DataFrame(df[df[\"decade\"] == \"the_90s\"].release_year.value_counts(sort=True,ascending=True))\n",
    "the_90s.plot(kind=\"bar\",title=\"The 90's Movies\",color=\"#D72323\")\n",
    "ax = plt.axes()\n",
    "ax.set_facecolor(\"#EEEEEE\")\n",
    "plt.ylabel(\"# of Movies\",fontweight='bold')\n",
    "plt.xlabel(\"Year\",fontweight='bold')\n",
    "df[df[\"decade\"] == \"the_90s\"].release_year.value_counts(sort=False).describe()"
   ]
  },
  {
   "cell_type": "markdown",
   "metadata": {},
   "source": [
    "### Summary of the graph : \n",
    "####  The year with the highest number of movies is -> 1999\n",
    "####  The year with the lowest number of movies is -> 1991"
   ]
  },
  {
   "cell_type": "markdown",
   "metadata": {},
   "source": [
    "##### 5-The 2000's decade"
   ]
  },
  {
   "cell_type": "code",
   "execution_count": 18,
   "metadata": {},
   "outputs": [
    {
     "data": {
      "text/plain": [
       "count     16.000000\n",
       "mean     391.562500\n",
       "std      136.786924\n",
       "min      196.000000\n",
       "25%      253.750000\n",
       "50%      404.500000\n",
       "75%      478.500000\n",
       "max      635.000000\n",
       "Name: release_year, dtype: float64"
      ]
     },
     "execution_count": 18,
     "metadata": {},
     "output_type": "execute_result"
    },
    {
     "data": {
      "image/png": "[encoded data removed]",
      "text/plain": [
       "<Figure size 432x288 with 1 Axes>"
      ]
     },
     "metadata": {
      "needs_background": "light"
     },
     "output_type": "display_data"
    }
   ],
   "source": [
    "the_2000s = pd.DataFrame(df[df[\"decade\"] == \"the_2000s\"].release_year.value_counts(sort=True,ascending=True))\n",
    "the_2000s.plot(kind=\"bar\",title=\"The the_2000's Movies\",color=\"#D72323\")\n",
    "ax = plt.axes()\n",
    "ax.set_facecolor(\"#EEEEEE\")\n",
    "plt.ylabel(\"# of Movies\",fontweight='bold')\n",
    "plt.xlabel(\"Year\",fontweight='bold')\n",
    "df[df[\"decade\"] == \"the_2000s\"].release_year.value_counts(sort=False).describe()"
   ]
  },
  {
   "cell_type": "markdown",
   "metadata": {},
   "source": [
    "### Summary of the graph : \n",
    "####  The year with the highest number of movies is -> 2014\n",
    "####  The year with the lowest number of movies is -> 2000"
   ]
  },
  {
   "cell_type": "markdown",
   "metadata": {},
   "source": [
    "### Research Question 2  : Movies profit over years\n"
   ]
  },
  {
   "cell_type": "code",
   "execution_count": 19,
   "metadata": {},
   "outputs": [],
   "source": [
    "df[\"profit\"] = df[\"revenue\"]  - df[\"budget\"]"
   ]
  },
  {
   "cell_type": "markdown",
   "metadata": {
    "collapsed": true
   },
   "source": [
    "#### Profit over decades"
   ]
  },
  {
   "cell_type": "code",
   "execution_count": 20,
   "metadata": {},
   "outputs": [
    {
     "data": {
      "text/plain": [
       "Text(0.5, 0, 'Decade')"
      ]
     },
     "execution_count": 20,
     "metadata": {},
     "output_type": "execute_result"
    },
    {
     "data": {
      "image/png": "[encoded data removed]",
      "text/plain": [
       "<Figure size 432x288 with 1 Axes>"
      ]
     },
     "metadata": {
      "needs_background": "light"
     },
     "output_type": "display_data"
    }
   ],
   "source": [
    "decades_profits = df[[\"decade\",\"budget\",\"revenue\",\"profit\"]]\n",
    "#decades_profits.plot.barh()\n",
    "decades_profits.groupby('decade')[\"budget\",\"revenue\",\"profit\"].sum().plot.line(title=\"Profit over decades\",color=[\"#FB9300\",\"#F54748\",\"#343F56\"])\n",
    "ax = plt.axes()\n",
    "ax.set_facecolor(\"#F5E6CA\")\n",
    "plt.ylabel(\"$ 10^11\",fontweight='bold')\n",
    "plt.xlabel(\"Decade\",fontweight='bold')"
   ]
  },
  {
   "cell_type": "markdown",
   "metadata": {},
   "source": [
    "### Summary of the graph : \n",
    "####  The decade with the highest profit is -> The 2000s decade\n",
    "####  The decade with the lowest profit is -> The 60s decade"
   ]
  },
  {
   "cell_type": "markdown",
   "metadata": {},
   "source": [
    "#### Profit over years\n",
    "##### 1-The 60's decade"
   ]
  },
  {
   "cell_type": "code",
   "execution_count": 21,
   "metadata": {},
   "outputs": [
    {
     "name": "stdout",
     "output_type": "stream",
     "text": [
      "                 budget    revenue     profit\n",
      "release_year                                 \n",
      "1960           22056948  145005000  122948052\n",
      "1961           46137000  337720188  291583188\n",
      "1962           54722126  215579846  160857720\n",
      "1963           73331500  187404989  114073489\n",
      "1964           39483161  340981782  301498621\n",
      "1965           70205115  458081854  387876739\n",
      "1966           57554800   84736689   27181889\n",
      "1967          100652000  737834637  637182637\n",
      "1968           71939000  264732980  192793980\n",
      "1969           42129087  243957076  201827989\n"
     ]
    },
    {
     "data": {
      "text/plain": [
       "Text(0.5, 0, 'Release Year')"
      ]
     },
     "execution_count": 21,
     "metadata": {},
     "output_type": "execute_result"
    },
    {
     "data": {
      "image/png": "[encoded data removed]",
      "text/plain": [
       "<Figure size 432x288 with 1 Axes>"
      ]
     },
     "metadata": {
      "needs_background": "light"
     },
     "output_type": "display_data"
    }
   ],
   "source": [
    "the_60s_profit = df[df['decade'] == \"the_60s\"]\n",
    "the_60s_profit = the_60s_profit[[\"release_year\",\"budget\",\"revenue\",\"profit\"]]\n",
    "the_60s_profit = (the_60s_profit.groupby('release_year')[\"budget\",\"revenue\",\"profit\"].sum())\n",
    "print(the_60s_profit)\n",
    "the_60s_profit.groupby('release_year')[\"budget\",\"revenue\",\"profit\"].sum().plot.bar(title=\"Profit over 60's\",color=[\"#FB9300\",\"#F54748\",\"#343F56\"])\n",
    "ax = plt.axes()\n",
    "ax.set_facecolor(\"#F5E6CA\")\n",
    "plt.ylabel(\"$ 10^8\",fontweight='bold')\n",
    "plt.xlabel(\"Release Year\",fontweight='bold')"
   ]
  },
  {
   "cell_type": "markdown",
   "metadata": {},
   "source": [
    "### Summary of the graph : \n",
    "####  The year with the highest profit is -> 1967\n",
    "####  The year with the lowest profit is -> 1966"
   ]
  },
  {
   "cell_type": "markdown",
   "metadata": {},
   "source": [
    "##### 2-The 70's decade"
   ]
  },
  {
   "cell_type": "code",
   "execution_count": 22,
   "metadata": {},
   "outputs": [
    {
     "name": "stdout",
     "output_type": "stream",
     "text": [
      "                 budget     revenue      profit\n",
      "release_year                                   \n",
      "1970          126961946   560221969   433260023\n",
      "1971           75997000   404910610   328913610\n",
      "1972           36279254   494730171   458450917\n",
      "1973           65190783  1223981102  1158790319\n",
      "1974           76970000   812539818   735569818\n",
      "1975           56279000   957489966   901210966\n",
      "1976          122150000   801005600   678855600\n",
      "1977          161580000  2180583159  2019003159\n",
      "1978          208997011  1353386659  1144389648\n",
      "1979          254814000  1684794913  1429980913\n"
     ]
    },
    {
     "data": {
      "text/plain": [
       "Text(0.5, 0, 'Release Year')"
      ]
     },
     "execution_count": 22,
     "metadata": {},
     "output_type": "execute_result"
    },
    {
     "data": {
      "image/png": "[encoded data removed]",
      "text/plain": [
       "<Figure size 432x288 with 1 Axes>"
      ]
     },
     "metadata": {
      "needs_background": "light"
     },
     "output_type": "display_data"
    }
   ],
   "source": [
    "the_70s_profit = df[df['decade'] == \"the_70s\"]\n",
    "the_70s_profit = the_70s_profit[[\"release_year\",\"budget\",\"revenue\",\"profit\"]]\n",
    "the_70s_profit = (the_70s_profit.groupby('release_year')[\"budget\",\"revenue\",\"profit\"].sum())\n",
    "print(the_70s_profit)\n",
    "the_70s_profit.groupby('release_year')[\"budget\",\"revenue\",\"profit\"].sum().plot.bar(title=\"Profit over 70's\",color=[\"#FB9300\",\"#F54748\",\"#343F56\"])\n",
    "ax = plt.axes()\n",
    "ax.set_facecolor(\"#F5E6CA\")\n",
    "plt.ylabel(\"$ 10^9\",fontweight='bold')\n",
    "plt.xlabel(\"Release Year\",fontweight='bold')"
   ]
  },
  {
   "cell_type": "markdown",
   "metadata": {},
   "source": [
    "### Summary of the graph : \n",
    "####  The year with the highest profit is -> 1977\n",
    "####  The year with the lowest profit is -> 1971"
   ]
  },
  {
   "cell_type": "markdown",
   "metadata": {},
   "source": [
    "##### 3-The 80's decade"
   ]
  },
  {
   "cell_type": "code",
   "execution_count": 23,
   "metadata": {},
   "outputs": [
    {
     "name": "stdout",
     "output_type": "stream",
     "text": [
      "                  budget     revenue      profit\n",
      "release_year                                    \n",
      "1980           362500000  1768662387  1406162387\n",
      "1981           338757786  1774606236  1435848450\n",
      "1982           437795002  2458443852  2020648850\n",
      "1983           518007412  2307529320  1789521908\n",
      "1984           729211964  2635524418  1906312454\n",
      "1985           748720637  2875772392  2127051755\n",
      "1986           693711113  2998067061  2304355948\n",
      "1987           709455811  3462104847  2752649036\n",
      "1988           922848000  3738961360  2816113360\n",
      "1989          1079656360  5164923718  4085267358\n"
     ]
    },
    {
     "data": {
      "text/plain": [
       "Text(0.5, 0, 'Release Year')"
      ]
     },
     "execution_count": 23,
     "metadata": {},
     "output_type": "execute_result"
    },
    {
     "data": {
      "image/png": "[encoded data removed]",
      "text/plain": [
       "<Figure size 432x288 with 1 Axes>"
      ]
     },
     "metadata": {
      "needs_background": "light"
     },
     "output_type": "display_data"
    }
   ],
   "source": [
    "the_80s_profit = df[df['decade'] == \"the_80s\"]\n",
    "the_80s_profit = the_80s_profit[[\"release_year\",\"budget\",\"revenue\",\"profit\"]]\n",
    "the_80s_profit = (the_80s_profit.groupby('release_year')[\"budget\",\"revenue\",\"profit\"].sum())\n",
    "print(the_80s_profit)\n",
    "the_80s_profit.groupby('release_year')[\"budget\",\"revenue\",\"profit\"].sum().plot.bar(title=\"Profit over 80's\",color=[\"#FB9300\",\"#F54748\",\"#343F56\"])\n",
    "ax = plt.axes()\n",
    "ax.set_facecolor(\"#F5E6CA\")\n",
    "plt.ylabel(\"$ 10^9\",fontweight='bold')\n",
    "plt.xlabel(\"Release Year\",fontweight='bold')"
   ]
  },
  {
   "cell_type": "markdown",
   "metadata": {},
   "source": [
    "### Summary of the graph : \n",
    "####  The year with the highest profit is -> 1989\n",
    "####  The year with the lowest profit is -> 1981"
   ]
  },
  {
   "cell_type": "markdown",
   "metadata": {},
   "source": [
    "##### 4-The 90's decade"
   ]
  },
  {
   "cell_type": "code",
   "execution_count": 24,
   "metadata": {},
   "outputs": [
    {
     "name": "stdout",
     "output_type": "stream",
     "text": [
      "                  budget      revenue      profit\n",
      "release_year                                     \n",
      "1990          1278354025   5304688679  4026334654\n",
      "1991          1466233000   4706599796  3240366796\n",
      "1992          1433325538   6078153217  4644827679\n",
      "1993          1777628653   6952183499  5174554846\n",
      "1994          2220207032   7091078403  4870871371\n",
      "1995          2831884377   9147263541  6315379164\n",
      "1996          3671080000   8303862070  4632782070\n",
      "1997          4751086675  10654899590  5903812915\n",
      "1998          4493160000   9483866799  4990706799\n",
      "1999          5745235106  11355712579  5610477473\n"
     ]
    },
    {
     "data": {
      "text/plain": [
       "Text(0.5, 0, 'Release Year')"
      ]
     },
     "execution_count": 24,
     "metadata": {},
     "output_type": "execute_result"
    },
    {
     "data": {
      "image/png": "[encoded data removed]",
      "text/plain": [
       "<Figure size 432x288 with 1 Axes>"
      ]
     },
     "metadata": {
      "needs_background": "light"
     },
     "output_type": "display_data"
    }
   ],
   "source": [
    "the_90s_profit = df[df['decade'] == \"the_90s\"]\n",
    "the_90s_profit = the_90s_profit[[\"release_year\",\"budget\",\"revenue\",\"profit\"]]\n",
    "the_90s_profit = (the_90s_profit.groupby('release_year')[\"budget\",\"revenue\",\"profit\"].sum())\n",
    "print(the_90s_profit)\n",
    "the_90s_profit.groupby('release_year')[\"budget\",\"revenue\",\"profit\"].sum().plot.bar(title=\"Profit over 90's\",color=[\"#FB9300\",\"#F54748\",\"#343F56\"])\n",
    "ax = plt.axes()\n",
    "ax.set_facecolor(\"#F5E6CA\")\n",
    "plt.ylabel(\"$ 10^10\",fontweight='bold')\n",
    "plt.xlabel(\"Release Year\",fontweight='bold')"
   ]
  },
  {
   "cell_type": "markdown",
   "metadata": {},
   "source": [
    "### Summary of the graph : \n",
    "####  The year with the highest profit is -> 1995\n",
    "####  The year with the lowest profit is -> 1991"
   ]
  },
  {
   "cell_type": "markdown",
   "metadata": {},
   "source": [
    "##### 5-The 2000's decade"
   ]
  },
  {
   "cell_type": "code",
   "execution_count": 25,
   "metadata": {},
   "outputs": [
    {
     "name": "stdout",
     "output_type": "stream",
     "text": [
      "                  budget      revenue       profit\n",
      "release_year                                      \n",
      "2000          5736200000  10919020206   5182820206\n",
      "2001          5619029000  13359768166   7740739166\n",
      "2002          5827640255  14616242508   8788602253\n",
      "2003          6225857394  15129121970   8903264576\n",
      "2004          7071090222  16747471351   9676381129\n",
      "2005          7294284349  16505301325   9211016976\n",
      "2006          7238785300  16251498200   9012712900\n",
      "2007          7586846112  19403749169  11816903057\n",
      "2008          7714762597  19298965733  11584203136\n",
      "2009          8550794364  22175185155  13624390791\n",
      "2010          9331845996  21955660121  12623814125\n",
      "2011          8976589239  23688720350  14712131111\n",
      "2012          8257783942  24633722334  16375938392\n",
      "2013          9203619761  24700793311  15497173550\n",
      "2014          7908350621  24329646567  16421295946\n",
      "2015          7591947557  26759924070  19167976513\n"
     ]
    },
    {
     "data": {
      "text/plain": [
       "Text(0.5, 0, 'Release Year')"
      ]
     },
     "execution_count": 25,
     "metadata": {},
     "output_type": "execute_result"
    },
    {
     "data": {
      "image/png": "[encoded data removed]",
      "text/plain": [
       "<Figure size 432x288 with 1 Axes>"
      ]
     },
     "metadata": {
      "needs_background": "light"
     },
     "output_type": "display_data"
    }
   ],
   "source": [
    "the_2000s_profit = df[df['decade'] == \"the_2000s\"]\n",
    "the_2000s_profit = the_2000s_profit[[\"release_year\",\"budget\",\"revenue\",\"profit\"]]\n",
    "the_2000s_profit = (the_2000s_profit.groupby('release_year')[\"budget\",\"revenue\",\"profit\"].sum())\n",
    "print(the_2000s_profit)\n",
    "the_2000s_profit.groupby('release_year')[\"budget\",\"revenue\",\"profit\"].sum().plot.bar(title=\"Profit over 2000's\",color=[\"#FB9300\",\"#F54748\",\"#343F56\"])\n",
    "ax = plt.axes()\n",
    "ax.set_facecolor(\"#F5E6CA\")\n",
    "plt.ylabel(\"$ 10^10\",fontweight='bold')\n",
    "plt.xlabel(\"Release Year\",fontweight='bold')"
   ]
  },
  {
   "cell_type": "markdown",
   "metadata": {},
   "source": [
    "### Summary of the graph : \n",
    "####  The year with the highest profit is -> 2015\n",
    "####  The year with the lowest profit is -> 2000"
   ]
  },
  {
   "cell_type": "markdown",
   "metadata": {},
   "source": [
    "### Research Question 3  : Top 10 Directors over all time\n"
   ]
  },
  {
   "cell_type": "code",
   "execution_count": 26,
   "metadata": {},
   "outputs": [
    {
     "data": {
      "text/html": [
       "<div>\n",
       "<style scoped>\n",
       "    .dataframe tbody tr th:only-of-type {\n",
       "        vertical-align: middle;\n",
       "    }\n",
       "\n",
       "    .dataframe tbody tr th {\n",
       "        vertical-align: top;\n",
       "    }\n",
       "\n",
       "    .dataframe thead th {\n",
       "        text-align: right;\n",
       "    }\n",
       "</style>\n",
       "<table border=\"1\" class=\"dataframe\">\n",
       "  <thead>\n",
       "    <tr style=\"text-align: right;\">\n",
       "      <th></th>\n",
       "      <th># of movies</th>\n",
       "    </tr>\n",
       "    <tr>\n",
       "      <th>director name</th>\n",
       "      <th></th>\n",
       "    </tr>\n",
       "  </thead>\n",
       "  <tbody>\n",
       "    <tr>\n",
       "      <th>A. Todd Smith</th>\n",
       "      <td>1</td>\n",
       "    </tr>\n",
       "    <tr>\n",
       "      <th>Lee Demarbre</th>\n",
       "      <td>1</td>\n",
       "    </tr>\n",
       "    <tr>\n",
       "      <th>Lee Friedlander</th>\n",
       "      <td>1</td>\n",
       "    </tr>\n",
       "    <tr>\n",
       "      <th>Lee Fulkerson</th>\n",
       "      <td>1</td>\n",
       "    </tr>\n",
       "    <tr>\n",
       "      <th>Lee H. Katzin</th>\n",
       "      <td>1</td>\n",
       "    </tr>\n",
       "    <tr>\n",
       "      <th>...</th>\n",
       "      <td>...</td>\n",
       "    </tr>\n",
       "    <tr>\n",
       "      <th>Ridley Scott</th>\n",
       "      <td>23</td>\n",
       "    </tr>\n",
       "    <tr>\n",
       "      <th>Martin Scorsese</th>\n",
       "      <td>28</td>\n",
       "    </tr>\n",
       "    <tr>\n",
       "      <th>Steven Spielberg</th>\n",
       "      <td>30</td>\n",
       "    </tr>\n",
       "    <tr>\n",
       "      <th>Clint Eastwood</th>\n",
       "      <td>34</td>\n",
       "    </tr>\n",
       "    <tr>\n",
       "      <th>Woody Allen</th>\n",
       "      <td>43</td>\n",
       "    </tr>\n",
       "  </tbody>\n",
       "</table>\n",
       "<p>4758 rows × 1 columns</p>\n",
       "</div>"
      ],
      "text/plain": [
       "                  # of movies\n",
       "director name                \n",
       "A. Todd Smith               1\n",
       "Lee Demarbre                1\n",
       "Lee Friedlander             1\n",
       "Lee Fulkerson               1\n",
       "Lee H. Katzin               1\n",
       "...                       ...\n",
       "Ridley Scott               23\n",
       "Martin Scorsese            28\n",
       "Steven Spielberg           30\n",
       "Clint Eastwood             34\n",
       "Woody Allen                43\n",
       "\n",
       "[4758 rows x 1 columns]"
      ]
     },
     "execution_count": 26,
     "metadata": {},
     "output_type": "execute_result"
    }
   ],
   "source": [
    "directors = pd.DataFrame(list(([i.strip() for i in '|'.join(df['director']).split('|')])))\n",
    "directors.columns=[\"director name\"]\n",
    "directors = pd.DataFrame(directors.value_counts(ascending=True))\n",
    "directors.columns=[\"# of movies\"]\n",
    "directors"
   ]
  },
  {
   "cell_type": "code",
   "execution_count": 27,
   "metadata": {},
   "outputs": [
    {
     "data": {
      "text/plain": [
       "Text(0.5, 0, 'Director')"
      ]
     },
     "execution_count": 27,
     "metadata": {},
     "output_type": "execute_result"
    },
    {
     "data": {
      "image/png": "[encoded data removed]",
      "text/plain": [
       "<Figure size 432x288 with 1 Axes>"
      ]
     },
     "metadata": {
      "needs_background": "light"
     },
     "output_type": "display_data"
    }
   ],
   "source": [
    "top_10_directors = directors[-10:]\n",
    "#top_10_directors.plot.pie(y=\"# of Movies\",figsize=(8,8),autopct=lambda p:f' {p*sum(subdi[\"# of Movies\"])/100 :.0f} Movies',explode=[0.03]*10,title=\"Top 10 Directors\",legend=False)\n",
    "top_10_directors.plot.bar(title=\"Top 10 Directors\",color=\"#ffb8b1\")\n",
    "ax = plt.axes()\n",
    "ax.set_facecolor(\"#993441\")\n",
    "plt.ylabel(\"# of Movies\",fontweight='bold')\n",
    "plt.xlabel(\"Director\",fontweight='bold')"
   ]
  },
  {
   "cell_type": "markdown",
   "metadata": {},
   "source": [
    "### Summary of the graph : \n",
    "####  The director with the highest number of movies :  Woody Allen\n",
    "####  The director with the lowest number of movies : John Carpenter"
   ]
  },
  {
   "cell_type": "markdown",
   "metadata": {},
   "source": [
    "### Research Question 4  : Top 10 Prodcution Companies over all time\n"
   ]
  },
  {
   "cell_type": "code",
   "execution_count": 28,
   "metadata": {},
   "outputs": [
    {
     "data": {
      "text/html": [
       "<div>\n",
       "<style scoped>\n",
       "    .dataframe tbody tr th:only-of-type {\n",
       "        vertical-align: middle;\n",
       "    }\n",
       "\n",
       "    .dataframe tbody tr th {\n",
       "        vertical-align: top;\n",
       "    }\n",
       "\n",
       "    .dataframe thead th {\n",
       "        text-align: right;\n",
       "    }\n",
       "</style>\n",
       "<table border=\"1\" class=\"dataframe\">\n",
       "  <thead>\n",
       "    <tr style=\"text-align: right;\">\n",
       "      <th></th>\n",
       "      <th># of movies</th>\n",
       "    </tr>\n",
       "    <tr>\n",
       "      <th>Prodcution Company Name</th>\n",
       "      <th></th>\n",
       "    </tr>\n",
       "  </thead>\n",
       "  <tbody>\n",
       "    <tr>\n",
       "      <th>\"DIA\" Productions GmbH &amp; Co. KG</th>\n",
       "      <td>1</td>\n",
       "    </tr>\n",
       "    <tr>\n",
       "      <th>Morabito Picture Company</th>\n",
       "      <td>1</td>\n",
       "    </tr>\n",
       "    <tr>\n",
       "      <th>Moonspun Films</th>\n",
       "      <td>1</td>\n",
       "    </tr>\n",
       "    <tr>\n",
       "      <th>Moonshot Pictures</th>\n",
       "      <td>1</td>\n",
       "    </tr>\n",
       "    <tr>\n",
       "      <th>Moonrise</th>\n",
       "      <td>1</td>\n",
       "    </tr>\n",
       "    <tr>\n",
       "      <th>...</th>\n",
       "      <td>...</td>\n",
       "    </tr>\n",
       "    <tr>\n",
       "      <th>Columbia Pictures</th>\n",
       "      <td>272</td>\n",
       "    </tr>\n",
       "    <tr>\n",
       "      <th>Twentieth Century Fox Film Corporation</th>\n",
       "      <td>282</td>\n",
       "    </tr>\n",
       "    <tr>\n",
       "      <th>Paramount Pictures</th>\n",
       "      <td>431</td>\n",
       "    </tr>\n",
       "    <tr>\n",
       "      <th>Warner Bros.</th>\n",
       "      <td>509</td>\n",
       "    </tr>\n",
       "    <tr>\n",
       "      <th>Universal Pictures</th>\n",
       "      <td>522</td>\n",
       "    </tr>\n",
       "  </tbody>\n",
       "</table>\n",
       "<p>7842 rows × 1 columns</p>\n",
       "</div>"
      ],
      "text/plain": [
       "                                        # of movies\n",
       "Prodcution Company Name                            \n",
       "\"DIA\" Productions GmbH & Co. KG                   1\n",
       "Morabito Picture Company                          1\n",
       "Moonspun Films                                    1\n",
       "Moonshot Pictures                                 1\n",
       "Moonrise                                          1\n",
       "...                                             ...\n",
       "Columbia Pictures                               272\n",
       "Twentieth Century Fox Film Corporation          282\n",
       "Paramount Pictures                              431\n",
       "Warner Bros.                                    509\n",
       "Universal Pictures                              522\n",
       "\n",
       "[7842 rows x 1 columns]"
      ]
     },
     "execution_count": 28,
     "metadata": {},
     "output_type": "execute_result"
    }
   ],
   "source": [
    "production_companies = pd.DataFrame(list(([i.strip() for i in '|'.join(df['production_companies']).split('|')])))\n",
    "production_companies.columns=[\"Prodcution Company Name\"]\n",
    "production_companies = pd.DataFrame(production_companies.value_counts(ascending=True))\n",
    "production_companies.columns=[\"# of movies\"]\n",
    "production_companies"
   ]
  },
  {
   "cell_type": "code",
   "execution_count": 29,
   "metadata": {},
   "outputs": [
    {
     "data": {
      "text/plain": [
       "Text(0.5, 0, 'Production Company name')"
      ]
     },
     "execution_count": 29,
     "metadata": {},
     "output_type": "execute_result"
    },
    {
     "data": {
      "image/png": "[encoded data removed]",
      "text/plain": [
       "<Figure size 432x288 with 1 Axes>"
      ]
     },
     "metadata": {
      "needs_background": "light"
     },
     "output_type": "display_data"
    }
   ],
   "source": [
    "top_10_production_companies = production_companies[-10:]\n",
    "#top_10_directors.plot.pie(y=\"# of Movies\",figsize=(8,8),autopct=lambda p:f' {p*sum(subdi[\"# of Movies\"])/100 :.0f} Movies',explode=[0.03]*10,title=\"Top 10 Directors\",legend=False)\n",
    "top_10_production_companies.plot.bar(title=\"Top 10 Production Comopany\",color=\"#514644\")\n",
    "ax = plt.axes()\n",
    "ax.set_facecolor(\"#efc8b1\")\n",
    "plt.ylabel(\"# of Movies\",fontweight='bold')\n",
    "plt.xlabel(\"Production Company name\",fontweight='bold')"
   ]
  },
  {
   "cell_type": "markdown",
   "metadata": {},
   "source": [
    "### Summary of the graph : \n",
    "####  The production company with the highest number of movies :  Universal Pictures\n",
    "####  The  production company with the lowest number of movies : Columbia Pictures Corporation"
   ]
  },
  {
   "cell_type": "markdown",
   "metadata": {},
   "source": [
    "### Research Question 5  : Top 10 Movie Genres over all time\n"
   ]
  },
  {
   "cell_type": "code",
   "execution_count": 30,
   "metadata": {},
   "outputs": [
    {
     "data": {
      "text/html": [
       "<div>\n",
       "<style scoped>\n",
       "    .dataframe tbody tr th:only-of-type {\n",
       "        vertical-align: middle;\n",
       "    }\n",
       "\n",
       "    .dataframe tbody tr th {\n",
       "        vertical-align: top;\n",
       "    }\n",
       "\n",
       "    .dataframe thead th {\n",
       "        text-align: right;\n",
       "    }\n",
       "</style>\n",
       "<table border=\"1\" class=\"dataframe\">\n",
       "  <thead>\n",
       "    <tr style=\"text-align: right;\">\n",
       "      <th></th>\n",
       "      <th># of movies</th>\n",
       "    </tr>\n",
       "    <tr>\n",
       "      <th>genre</th>\n",
       "      <th></th>\n",
       "    </tr>\n",
       "  </thead>\n",
       "  <tbody>\n",
       "    <tr>\n",
       "      <th>Foreign</th>\n",
       "      <td>120</td>\n",
       "    </tr>\n",
       "    <tr>\n",
       "      <th>TV Movie</th>\n",
       "      <td>132</td>\n",
       "    </tr>\n",
       "    <tr>\n",
       "      <th>Western</th>\n",
       "      <td>160</td>\n",
       "    </tr>\n",
       "    <tr>\n",
       "      <th>War</th>\n",
       "      <td>258</td>\n",
       "    </tr>\n",
       "    <tr>\n",
       "      <th>History</th>\n",
       "      <td>306</td>\n",
       "    </tr>\n",
       "    <tr>\n",
       "      <th>Documentary</th>\n",
       "      <td>317</td>\n",
       "    </tr>\n",
       "    <tr>\n",
       "      <th>Music</th>\n",
       "      <td>339</td>\n",
       "    </tr>\n",
       "    <tr>\n",
       "      <th>Animation</th>\n",
       "      <td>615</td>\n",
       "    </tr>\n",
       "    <tr>\n",
       "      <th>Mystery</th>\n",
       "      <td>773</td>\n",
       "    </tr>\n",
       "    <tr>\n",
       "      <th>Fantasy</th>\n",
       "      <td>839</td>\n",
       "    </tr>\n",
       "    <tr>\n",
       "      <th>Family</th>\n",
       "      <td>1095</td>\n",
       "    </tr>\n",
       "    <tr>\n",
       "      <th>Science Fiction</th>\n",
       "      <td>1134</td>\n",
       "    </tr>\n",
       "    <tr>\n",
       "      <th>Crime</th>\n",
       "      <td>1299</td>\n",
       "    </tr>\n",
       "    <tr>\n",
       "      <th>Adventure</th>\n",
       "      <td>1384</td>\n",
       "    </tr>\n",
       "    <tr>\n",
       "      <th>Horror</th>\n",
       "      <td>1526</td>\n",
       "    </tr>\n",
       "    <tr>\n",
       "      <th>Romance</th>\n",
       "      <td>1570</td>\n",
       "    </tr>\n",
       "    <tr>\n",
       "      <th>Action</th>\n",
       "      <td>2233</td>\n",
       "    </tr>\n",
       "    <tr>\n",
       "      <th>Thriller</th>\n",
       "      <td>2746</td>\n",
       "    </tr>\n",
       "    <tr>\n",
       "      <th>Comedy</th>\n",
       "      <td>3433</td>\n",
       "    </tr>\n",
       "    <tr>\n",
       "      <th>Drama</th>\n",
       "      <td>4364</td>\n",
       "    </tr>\n",
       "  </tbody>\n",
       "</table>\n",
       "</div>"
      ],
      "text/plain": [
       "                 # of movies\n",
       "genre                       \n",
       "Foreign                  120\n",
       "TV Movie                 132\n",
       "Western                  160\n",
       "War                      258\n",
       "History                  306\n",
       "Documentary              317\n",
       "Music                    339\n",
       "Animation                615\n",
       "Mystery                  773\n",
       "Fantasy                  839\n",
       "Family                  1095\n",
       "Science Fiction         1134\n",
       "Crime                   1299\n",
       "Adventure               1384\n",
       "Horror                  1526\n",
       "Romance                 1570\n",
       "Action                  2233\n",
       "Thriller                2746\n",
       "Comedy                  3433\n",
       "Drama                   4364"
      ]
     },
     "execution_count": 30,
     "metadata": {},
     "output_type": "execute_result"
    }
   ],
   "source": [
    "genres = pd.DataFrame(list(([i.strip() for i in '|'.join(df['genres']).split('|')])))\n",
    "genres.columns=[\"genre\"]\n",
    "genres = pd.DataFrame(genres.value_counts(ascending=True))\n",
    "genres.columns=[\"# of movies\"]\n",
    "genres"
   ]
  },
  {
   "cell_type": "code",
   "execution_count": 31,
   "metadata": {},
   "outputs": [
    {
     "data": {
      "text/plain": [
       "Text(0.5, 0, 'Genre')"
      ]
     },
     "execution_count": 31,
     "metadata": {},
     "output_type": "execute_result"
    },
    {
     "data": {
      "image/png": "[encoded data removed]",
      "text/plain": [
       "<Figure size 432x288 with 1 Axes>"
      ]
     },
     "metadata": {
      "needs_background": "light"
     },
     "output_type": "display_data"
    }
   ],
   "source": [
    "top_10_genres = genres[-10:]\n",
    "#top_10_directors.plot.pie(y=\"# of Movies\",figsize=(8,8),autopct=lambda p:f' {p*sum(subdi[\"# of Movies\"])/100 :.0f} Movies',explode=[0.03]*10,title=\"Top 10 Directors\",legend=False)\n",
    "top_10_genres.plot.bar(title=\"Top 10 Genres\",color=\"#7689de\")\n",
    "ax = plt.axes()\n",
    "ax.set_facecolor(\"#a9dce3\")\n",
    "plt.ylabel(\"# of Movies\",fontweight='bold')\n",
    "plt.xlabel(\"Genre\",fontweight='bold')"
   ]
  },
  {
   "cell_type": "markdown",
   "metadata": {},
   "source": [
    "### Summary of the graph : \n",
    "####  The most popular genre : Drama"
   ]
  },
  {
   "cell_type": "markdown",
   "metadata": {},
   "source": [
    "### Research Question 6  :  Top 10 actors over all time\n"
   ]
  },
  {
   "cell_type": "code",
   "execution_count": 32,
   "metadata": {},
   "outputs": [
    {
     "data": {
      "text/html": [
       "<div>\n",
       "<style scoped>\n",
       "    .dataframe tbody tr th:only-of-type {\n",
       "        vertical-align: middle;\n",
       "    }\n",
       "\n",
       "    .dataframe tbody tr th {\n",
       "        vertical-align: top;\n",
       "    }\n",
       "\n",
       "    .dataframe thead th {\n",
       "        text-align: right;\n",
       "    }\n",
       "</style>\n",
       "<table border=\"1\" class=\"dataframe\">\n",
       "  <thead>\n",
       "    <tr style=\"text-align: right;\">\n",
       "      <th></th>\n",
       "      <th># of movies</th>\n",
       "    </tr>\n",
       "    <tr>\n",
       "      <th>actor name</th>\n",
       "      <th></th>\n",
       "    </tr>\n",
       "  </thead>\n",
       "  <tbody>\n",
       "    <tr>\n",
       "      <th>\"Weird Al\" Yankovic</th>\n",
       "      <td>1</td>\n",
       "    </tr>\n",
       "    <tr>\n",
       "      <th>Luce Rains</th>\n",
       "      <td>1</td>\n",
       "    </tr>\n",
       "    <tr>\n",
       "      <th>Luciana Littizzetto</th>\n",
       "      <td>1</td>\n",
       "    </tr>\n",
       "    <tr>\n",
       "      <th>Luciana Paluzzi</th>\n",
       "      <td>1</td>\n",
       "    </tr>\n",
       "    <tr>\n",
       "      <th>Luciano Pavarotti</th>\n",
       "      <td>1</td>\n",
       "    </tr>\n",
       "    <tr>\n",
       "      <th>...</th>\n",
       "      <td>...</td>\n",
       "    </tr>\n",
       "    <tr>\n",
       "      <th>Michael Caine</th>\n",
       "      <td>52</td>\n",
       "    </tr>\n",
       "    <tr>\n",
       "      <th>Nicolas Cage</th>\n",
       "      <td>61</td>\n",
       "    </tr>\n",
       "    <tr>\n",
       "      <th>Bruce Willis</th>\n",
       "      <td>62</td>\n",
       "    </tr>\n",
       "    <tr>\n",
       "      <th>Samuel L. Jackson</th>\n",
       "      <td>70</td>\n",
       "    </tr>\n",
       "    <tr>\n",
       "      <th>Robert De Niro</th>\n",
       "      <td>72</td>\n",
       "    </tr>\n",
       "  </tbody>\n",
       "</table>\n",
       "<p>17123 rows × 1 columns</p>\n",
       "</div>"
      ],
      "text/plain": [
       "                     # of movies\n",
       "actor name                      \n",
       "\"Weird Al\" Yankovic            1\n",
       "Luce Rains                     1\n",
       "Luciana Littizzetto            1\n",
       "Luciana Paluzzi                1\n",
       "Luciano Pavarotti              1\n",
       "...                          ...\n",
       "Michael Caine                 52\n",
       "Nicolas Cage                  61\n",
       "Bruce Willis                  62\n",
       "Samuel L. Jackson             70\n",
       "Robert De Niro                72\n",
       "\n",
       "[17123 rows x 1 columns]"
      ]
     },
     "execution_count": 32,
     "metadata": {},
     "output_type": "execute_result"
    }
   ],
   "source": [
    "actors = pd.DataFrame(list(([i.strip() for i in '|'.join(df['cast']).split('|')])))\n",
    "actors.columns=[\"actor name\"]\n",
    "actors = pd.DataFrame(actors.value_counts(ascending=True))\n",
    "actors.columns=[\"# of movies\"]\n",
    "actors"
   ]
  },
  {
   "cell_type": "code",
   "execution_count": 33,
   "metadata": {},
   "outputs": [
    {
     "data": {
      "text/html": [
       "<div>\n",
       "<style scoped>\n",
       "    .dataframe tbody tr th:only-of-type {\n",
       "        vertical-align: middle;\n",
       "    }\n",
       "\n",
       "    .dataframe tbody tr th {\n",
       "        vertical-align: top;\n",
       "    }\n",
       "\n",
       "    .dataframe thead th {\n",
       "        text-align: right;\n",
       "    }\n",
       "</style>\n",
       "<table border=\"1\" class=\"dataframe\">\n",
       "  <thead>\n",
       "    <tr style=\"text-align: right;\">\n",
       "      <th></th>\n",
       "      <th># of movies</th>\n",
       "    </tr>\n",
       "    <tr>\n",
       "      <th>actor name</th>\n",
       "      <th></th>\n",
       "    </tr>\n",
       "  </thead>\n",
       "  <tbody>\n",
       "    <tr>\n",
       "      <th>Susan Sarandon</th>\n",
       "      <td>47</td>\n",
       "    </tr>\n",
       "    <tr>\n",
       "      <th>John Cusack</th>\n",
       "      <td>48</td>\n",
       "    </tr>\n",
       "    <tr>\n",
       "      <th>John Goodman</th>\n",
       "      <td>48</td>\n",
       "    </tr>\n",
       "    <tr>\n",
       "      <th>Morgan Freeman</th>\n",
       "      <td>49</td>\n",
       "    </tr>\n",
       "    <tr>\n",
       "      <th>Robin Williams</th>\n",
       "      <td>51</td>\n",
       "    </tr>\n",
       "    <tr>\n",
       "      <th>Michael Caine</th>\n",
       "      <td>52</td>\n",
       "    </tr>\n",
       "    <tr>\n",
       "      <th>Nicolas Cage</th>\n",
       "      <td>61</td>\n",
       "    </tr>\n",
       "    <tr>\n",
       "      <th>Bruce Willis</th>\n",
       "      <td>62</td>\n",
       "    </tr>\n",
       "    <tr>\n",
       "      <th>Samuel L. Jackson</th>\n",
       "      <td>70</td>\n",
       "    </tr>\n",
       "    <tr>\n",
       "      <th>Robert De Niro</th>\n",
       "      <td>72</td>\n",
       "    </tr>\n",
       "  </tbody>\n",
       "</table>\n",
       "</div>"
      ],
      "text/plain": [
       "                   # of movies\n",
       "actor name                    \n",
       "Susan Sarandon              47\n",
       "John Cusack                 48\n",
       "John Goodman                48\n",
       "Morgan Freeman              49\n",
       "Robin Williams              51\n",
       "Michael Caine               52\n",
       "Nicolas Cage                61\n",
       "Bruce Willis                62\n",
       "Samuel L. Jackson           70\n",
       "Robert De Niro              72"
      ]
     },
     "execution_count": 33,
     "metadata": {},
     "output_type": "execute_result"
    }
   ],
   "source": [
    "top_10_actors = actors[-10:]\n",
    "top_10_actors"
   ]
  },
  {
   "cell_type": "code",
   "execution_count": 34,
   "metadata": {},
   "outputs": [
    {
     "data": {
      "text/plain": [
       "Text(0.5, 0, 'Actor')"
      ]
     },
     "execution_count": 34,
     "metadata": {},
     "output_type": "execute_result"
    },
    {
     "data": {
      "image/png": "[encoded data removed]",
      "text/plain": [
       "<Figure size 432x288 with 1 Axes>"
      ]
     },
     "metadata": {
      "needs_background": "light"
     },
     "output_type": "display_data"
    }
   ],
   "source": [
    "top_10_actors.plot.bar(title=\"Top 10 Actors\",color=\"#5b0e2d\")\n",
    "ax = plt.axes()\n",
    "ax.set_facecolor(\"#ffa781\")\n",
    "plt.ylabel(\"# of Movies\",fontweight='bold')\n",
    "plt.xlabel(\"Actor\",fontweight='bold')"
   ]
  },
  {
   "cell_type": "markdown",
   "metadata": {},
   "source": [
    "### Summary of the graph : \n",
    "####  Them actor with the highest number of movies :  Robert De Niro\n"
   ]
  },
  {
   "cell_type": "markdown",
   "metadata": {},
   "source": [
    "### Research Question 7  :  Top 10 watched movies\n"
   ]
  },
  {
   "cell_type": "code",
   "execution_count": 35,
   "metadata": {},
   "outputs": [
    {
     "name": "stdout",
     "output_type": "stream",
     "text": [
      "           original_title  runtime\n",
      "486    If There Be Thorns        0\n",
      "3857             Cell 213        0\n",
      "6934        Jean-Philippe        0\n",
      "4944  How to Fall in Love        0\n",
      "5938          Go Goa Gone        0\n",
      "...                   ...      ...\n",
      "1865                 Life      500\n",
      "2214          The Pacific      540\n",
      "6176                Shoah      566\n",
      "2722     Band of Brothers      705\n",
      "4041                Taken      877\n",
      "\n",
      "[9770 rows x 2 columns]\n"
     ]
    },
    {
     "data": {
      "text/html": [
       "<div>\n",
       "<style scoped>\n",
       "    .dataframe tbody tr th:only-of-type {\n",
       "        vertical-align: middle;\n",
       "    }\n",
       "\n",
       "    .dataframe tbody tr th {\n",
       "        vertical-align: top;\n",
       "    }\n",
       "\n",
       "    .dataframe thead th {\n",
       "        text-align: right;\n",
       "    }\n",
       "</style>\n",
       "<table border=\"1\" class=\"dataframe\">\n",
       "  <thead>\n",
       "    <tr style=\"text-align: right;\">\n",
       "      <th></th>\n",
       "      <th>original_title</th>\n",
       "      <th>runtime</th>\n",
       "    </tr>\n",
       "  </thead>\n",
       "  <tbody>\n",
       "    <tr>\n",
       "      <th>4788</th>\n",
       "      <td>World Without End</td>\n",
       "      <td>389</td>\n",
       "    </tr>\n",
       "    <tr>\n",
       "      <th>2843</th>\n",
       "      <td>The Blue Planet</td>\n",
       "      <td>400</td>\n",
       "    </tr>\n",
       "    <tr>\n",
       "      <th>6008</th>\n",
       "      <td>Crystal Lake Memories: The Complete History of...</td>\n",
       "      <td>400</td>\n",
       "    </tr>\n",
       "    <tr>\n",
       "      <th>2170</th>\n",
       "      <td>The Pillars of the Earth</td>\n",
       "      <td>421</td>\n",
       "    </tr>\n",
       "    <tr>\n",
       "      <th>3141</th>\n",
       "      <td>Generation Kill</td>\n",
       "      <td>470</td>\n",
       "    </tr>\n",
       "    <tr>\n",
       "      <th>1865</th>\n",
       "      <td>Life</td>\n",
       "      <td>500</td>\n",
       "    </tr>\n",
       "    <tr>\n",
       "      <th>2214</th>\n",
       "      <td>The Pacific</td>\n",
       "      <td>540</td>\n",
       "    </tr>\n",
       "    <tr>\n",
       "      <th>6176</th>\n",
       "      <td>Shoah</td>\n",
       "      <td>566</td>\n",
       "    </tr>\n",
       "    <tr>\n",
       "      <th>2722</th>\n",
       "      <td>Band of Brothers</td>\n",
       "      <td>705</td>\n",
       "    </tr>\n",
       "    <tr>\n",
       "      <th>4041</th>\n",
       "      <td>Taken</td>\n",
       "      <td>877</td>\n",
       "    </tr>\n",
       "  </tbody>\n",
       "</table>\n",
       "</div>"
      ],
      "text/plain": [
       "                                         original_title  runtime\n",
       "4788                                  World Without End      389\n",
       "2843                                    The Blue Planet      400\n",
       "6008  Crystal Lake Memories: The Complete History of...      400\n",
       "2170                           The Pillars of the Earth      421\n",
       "3141                                    Generation Kill      470\n",
       "1865                                               Life      500\n",
       "2214                                        The Pacific      540\n",
       "6176                                              Shoah      566\n",
       "2722                                   Band of Brothers      705\n",
       "4041                                              Taken      877"
      ]
     },
     "execution_count": 35,
     "metadata": {},
     "output_type": "execute_result"
    }
   ],
   "source": [
    "movies_runtime = df[[\"original_title\",\"runtime\"]]\n",
    "movies_runtime = movies_runtime.sort_values(by=\"runtime\", ascending=True)\n",
    "print(movies_runtime)\n",
    "top_10_watched_movies = movies_runtime[-10:]\n",
    "top_10_watched_movies"
   ]
  },
  {
   "cell_type": "code",
   "execution_count": 36,
   "metadata": {},
   "outputs": [
    {
     "data": {
      "text/plain": [
       "Text(0.5, 0, 'Movie')"
      ]
     },
     "execution_count": 36,
     "metadata": {},
     "output_type": "execute_result"
    },
    {
     "data": {
      "image/png": "[encoded data removed]",
      "text/plain": [
       "<Figure size 432x288 with 1 Axes>"
      ]
     },
     "metadata": {
      "needs_background": "light"
     },
     "output_type": "display_data"
    }
   ],
   "source": [
    "top_10_watched_movies.plot.bar(x=\"original_title\",y=\"runtime\",title=\"Top 10 watched movies\",color=\"#143d59\")\n",
    "ax = plt.axes()\n",
    "ax.set_facecolor(\"#f4b41a\")\n",
    "plt.ylabel(\"# of runtimes\",fontweight='bold')\n",
    "plt.xlabel(\"Movie\",fontweight='bold')"
   ]
  },
  {
   "cell_type": "markdown",
   "metadata": {},
   "source": [
    "### Summary of the graph : \n",
    "####  The Movie with the highest number of watches :  Taken"
   ]
  },
  {
   "cell_type": "markdown",
   "metadata": {},
   "source": [
    "### Research Question 8 :  Top 10 rated movies"
   ]
  },
  {
   "cell_type": "code",
   "execution_count": 37,
   "metadata": {},
   "outputs": [
    {
     "name": "stdout",
     "output_type": "stream",
     "text": [
      "                                          original_title  vote_average\n",
      "10865                           Manos: The Hands of Fate           1.5\n",
      "7772                                       Transmorphers           1.5\n",
      "4882                                      Jurassic Shark           2.0\n",
      "3822                                         Sand Sharks           2.1\n",
      "7220                        Superbabies: Baby Geniuses 2           2.1\n",
      "...                                                  ...           ...\n",
      "4178                            The Shawshank Redemption           8.4\n",
      "8411                               Queen - Rock Montreal           8.5\n",
      "8221   A Personal Journey with Martin Scorsese Throug...           8.5\n",
      "3690                                   The Art of Flight           8.5\n",
      "6911                                   Pink Floyd: Pulse           8.7\n",
      "\n",
      "[9770 rows x 2 columns]\n"
     ]
    },
    {
     "data": {
      "text/html": [
       "<div>\n",
       "<style scoped>\n",
       "    .dataframe tbody tr th:only-of-type {\n",
       "        vertical-align: middle;\n",
       "    }\n",
       "\n",
       "    .dataframe tbody tr th {\n",
       "        vertical-align: top;\n",
       "    }\n",
       "\n",
       "    .dataframe thead th {\n",
       "        text-align: right;\n",
       "    }\n",
       "</style>\n",
       "<table border=\"1\" class=\"dataframe\">\n",
       "  <thead>\n",
       "    <tr style=\"text-align: right;\">\n",
       "      <th></th>\n",
       "      <th>original_title</th>\n",
       "      <th>vote_average</th>\n",
       "    </tr>\n",
       "  </thead>\n",
       "  <tbody>\n",
       "    <tr>\n",
       "      <th>6176</th>\n",
       "      <td>Shoah</td>\n",
       "      <td>8.3</td>\n",
       "    </tr>\n",
       "    <tr>\n",
       "      <th>3310</th>\n",
       "      <td>Dear Zachary: A Letter to a Son About His Father</td>\n",
       "      <td>8.3</td>\n",
       "    </tr>\n",
       "    <tr>\n",
       "      <th>7948</th>\n",
       "      <td>Stop Making Sense</td>\n",
       "      <td>8.4</td>\n",
       "    </tr>\n",
       "    <tr>\n",
       "      <th>609</th>\n",
       "      <td>The Jinx: The Life and Deaths of Robert Durst</td>\n",
       "      <td>8.4</td>\n",
       "    </tr>\n",
       "    <tr>\n",
       "      <th>5986</th>\n",
       "      <td>Guten Tag, RamÃ³n</td>\n",
       "      <td>8.4</td>\n",
       "    </tr>\n",
       "    <tr>\n",
       "      <th>4178</th>\n",
       "      <td>The Shawshank Redemption</td>\n",
       "      <td>8.4</td>\n",
       "    </tr>\n",
       "    <tr>\n",
       "      <th>8411</th>\n",
       "      <td>Queen - Rock Montreal</td>\n",
       "      <td>8.5</td>\n",
       "    </tr>\n",
       "    <tr>\n",
       "      <th>8221</th>\n",
       "      <td>A Personal Journey with Martin Scorsese Throug...</td>\n",
       "      <td>8.5</td>\n",
       "    </tr>\n",
       "    <tr>\n",
       "      <th>3690</th>\n",
       "      <td>The Art of Flight</td>\n",
       "      <td>8.5</td>\n",
       "    </tr>\n",
       "    <tr>\n",
       "      <th>6911</th>\n",
       "      <td>Pink Floyd: Pulse</td>\n",
       "      <td>8.7</td>\n",
       "    </tr>\n",
       "  </tbody>\n",
       "</table>\n",
       "</div>"
      ],
      "text/plain": [
       "                                         original_title  vote_average\n",
       "6176                                              Shoah           8.3\n",
       "3310   Dear Zachary: A Letter to a Son About His Father           8.3\n",
       "7948                                  Stop Making Sense           8.4\n",
       "609       The Jinx: The Life and Deaths of Robert Durst           8.4\n",
       "5986                                  Guten Tag, RamÃ³n           8.4\n",
       "4178                           The Shawshank Redemption           8.4\n",
       "8411                              Queen - Rock Montreal           8.5\n",
       "8221  A Personal Journey with Martin Scorsese Throug...           8.5\n",
       "3690                                  The Art of Flight           8.5\n",
       "6911                                  Pink Floyd: Pulse           8.7"
      ]
     },
     "execution_count": 37,
     "metadata": {},
     "output_type": "execute_result"
    }
   ],
   "source": [
    "movies_rates = df[[\"original_title\",\"vote_average\"]]\n",
    "movies_rates = movies_rates.sort_values(by=\"vote_average\", ascending=True)\n",
    "print(movies_rates)\n",
    "top_10_rated_movies = movies_rates[-10:]\n",
    "top_10_rated_movies"
   ]
  },
  {
   "cell_type": "code",
   "execution_count": 38,
   "metadata": {},
   "outputs": [
    {
     "data": {
      "text/plain": [
       "Text(0.5, 0, 'Movie')"
      ]
     },
     "execution_count": 38,
     "metadata": {},
     "output_type": "execute_result"
    },
    {
     "data": {
      "image/png": "[encoded data removed]",
      "text/plain": [
       "<Figure size 432x288 with 1 Axes>"
      ]
     },
     "metadata": {
      "needs_background": "light"
     },
     "output_type": "display_data"
    }
   ],
   "source": [
    "top_10_rated_movies.plot.bar(x=\"original_title\",y=\"vote_average\",title=\"Top 10 rated movies\",color=\"#004228\")\n",
    "ax = plt.axes()\n",
    "ax.set_facecolor(\"#ffffff\")\n",
    "plt.ylim(top_10_rated_movies.vote_average.min() - 0.2, top_10_rated_movies.vote_average.max() + 0.2)\n",
    "plt.ylabel(\"rate out of 10\",fontweight='bold')\n",
    "plt.xlabel(\"Movie\",fontweight='bold')"
   ]
  },
  {
   "cell_type": "markdown",
   "metadata": {},
   "source": [
    "### Summary of the graph : \n",
    "####  The Movie with the highest rate  :  Pink Floyd: Pulse"
   ]
  },
  {
   "cell_type": "markdown",
   "metadata": {},
   "source": [
    "### Research Question 9 :  Top 10 popular movies"
   ]
  },
  {
   "cell_type": "code",
   "execution_count": 39,
   "metadata": {},
   "outputs": [
    {
     "name": "stdout",
     "output_type": "stream",
     "text": [
      "                  original_title  popularity\n",
      "9977                The Hospital    0.000188\n",
      "6080                      G.B.F.    0.000620\n",
      "6551  Mon petit doigt m'a dit...    0.000973\n",
      "6961           Khosla Ka Ghosla!    0.001115\n",
      "3370              Fuera de carta    0.001317\n",
      "...                          ...         ...\n",
      "2                      Insurgent   13.112507\n",
      "630      Guardians of the Galaxy   14.311205\n",
      "629                 Interstellar   24.949134\n",
      "1             Mad Max: Fury Road   28.419936\n",
      "0                 Jurassic World   32.985763\n",
      "\n",
      "[9770 rows x 2 columns]\n"
     ]
    },
    {
     "data": {
      "text/html": [
       "<div>\n",
       "<style scoped>\n",
       "    .dataframe tbody tr th:only-of-type {\n",
       "        vertical-align: middle;\n",
       "    }\n",
       "\n",
       "    .dataframe tbody tr th {\n",
       "        vertical-align: top;\n",
       "    }\n",
       "\n",
       "    .dataframe thead th {\n",
       "        text-align: right;\n",
       "    }\n",
       "</style>\n",
       "<table border=\"1\" class=\"dataframe\">\n",
       "  <thead>\n",
       "    <tr style=\"text-align: right;\">\n",
       "      <th></th>\n",
       "      <th>original_title</th>\n",
       "      <th>popularity</th>\n",
       "    </tr>\n",
       "  </thead>\n",
       "  <tbody>\n",
       "    <tr>\n",
       "      <th>633</th>\n",
       "      <td>The Hunger Games: Mockingjay - Part 1</td>\n",
       "      <td>10.739009</td>\n",
       "    </tr>\n",
       "    <tr>\n",
       "      <th>3</th>\n",
       "      <td>Star Wars: The Force Awakens</td>\n",
       "      <td>11.173104</td>\n",
       "    </tr>\n",
       "    <tr>\n",
       "      <th>632</th>\n",
       "      <td>John Wick</td>\n",
       "      <td>11.422751</td>\n",
       "    </tr>\n",
       "    <tr>\n",
       "      <th>1329</th>\n",
       "      <td>Star Wars</td>\n",
       "      <td>12.037933</td>\n",
       "    </tr>\n",
       "    <tr>\n",
       "      <th>631</th>\n",
       "      <td>Captain America: The Winter Soldier</td>\n",
       "      <td>12.971027</td>\n",
       "    </tr>\n",
       "    <tr>\n",
       "      <th>2</th>\n",
       "      <td>Insurgent</td>\n",
       "      <td>13.112507</td>\n",
       "    </tr>\n",
       "    <tr>\n",
       "      <th>630</th>\n",
       "      <td>Guardians of the Galaxy</td>\n",
       "      <td>14.311205</td>\n",
       "    </tr>\n",
       "    <tr>\n",
       "      <th>629</th>\n",
       "      <td>Interstellar</td>\n",
       "      <td>24.949134</td>\n",
       "    </tr>\n",
       "    <tr>\n",
       "      <th>1</th>\n",
       "      <td>Mad Max: Fury Road</td>\n",
       "      <td>28.419936</td>\n",
       "    </tr>\n",
       "    <tr>\n",
       "      <th>0</th>\n",
       "      <td>Jurassic World</td>\n",
       "      <td>32.985763</td>\n",
       "    </tr>\n",
       "  </tbody>\n",
       "</table>\n",
       "</div>"
      ],
      "text/plain": [
       "                             original_title  popularity\n",
       "633   The Hunger Games: Mockingjay - Part 1   10.739009\n",
       "3              Star Wars: The Force Awakens   11.173104\n",
       "632                               John Wick   11.422751\n",
       "1329                              Star Wars   12.037933\n",
       "631     Captain America: The Winter Soldier   12.971027\n",
       "2                                 Insurgent   13.112507\n",
       "630                 Guardians of the Galaxy   14.311205\n",
       "629                            Interstellar   24.949134\n",
       "1                        Mad Max: Fury Road   28.419936\n",
       "0                            Jurassic World   32.985763"
      ]
     },
     "execution_count": 39,
     "metadata": {},
     "output_type": "execute_result"
    }
   ],
   "source": [
    "movies_popularity = df[[\"original_title\",\"popularity\"]]\n",
    "movies_popularity = movies_popularity.sort_values(by=\"popularity\", ascending=True)\n",
    "print(movies_popularity)\n",
    "top_10_popular_movies = movies_popularity[-10:]\n",
    "top_10_popular_movies"
   ]
  },
  {
   "cell_type": "code",
   "execution_count": 40,
   "metadata": {},
   "outputs": [
    {
     "data": {
      "text/plain": [
       "Text(0.5, 0, 'Movie')"
      ]
     },
     "execution_count": 40,
     "metadata": {},
     "output_type": "execute_result"
    },
    {
     "data": {
      "image/png": "[encoded data removed]",
      "text/plain": [
       "<Figure size 432x288 with 1 Axes>"
      ]
     },
     "metadata": {
      "needs_background": "light"
     },
     "output_type": "display_data"
    }
   ],
   "source": [
    "top_10_popular_movies.plot.bar(x=\"original_title\",y=\"popularity\",title=\"Top 10 popular movies\",color=\"#00429d\")\n",
    "ax = plt.axes()\n",
    "ax.set_facecolor(\"#ffffe0\")\n",
    "#plt.ylim(top_10_popular_movies.popularity.min() - 0.2, top_10_popular_movies.popularity.max() + 0.2)\n",
    "plt.ylabel(\"popularity %\",fontweight='bold')\n",
    "plt.xlabel(\"Movie\",fontweight='bold')"
   ]
  },
  {
   "cell_type": "markdown",
   "metadata": {},
   "source": [
    "### Summary of the graph : \n",
    "####  The most popular movie :  Jurassic World"
   ]
  },
  {
   "cell_type": "markdown",
   "metadata": {},
   "source": [
    "### Research Question 10 :  Top 10 actors do which genres more ?"
   ]
  },
  {
   "cell_type": "code",
   "execution_count": 41,
   "metadata": {},
   "outputs": [
    {
     "name": "stdout",
     "output_type": "stream",
     "text": [
      "['Music', 'Action', 'History', 'TV Movie', 'Romance', 'Drama', 'Documentary', 'Thriller', 'Western', 'Foreign', 'Adventure', 'Mystery', 'Comedy', 'Fantasy', 'Animation', 'Crime', 'War', 'Family', 'Horror', 'Science Fiction']\n"
     ]
    }
   ],
   "source": [
    "\n",
    "genres_list = list(set([i.strip() for i in '|'.join(df['genres']).split('|')]))\n",
    "print(genres_list)\n",
    "def get_actor_genre(actor_name,genres_list):\n",
    "    actor_genres = {}\n",
    "    for i in range(len(genres_list)):\n",
    "        genre_filter = df[df['genres'].astype(str).str.contains(genres_list[i])]\n",
    "        actor_filter = genre_filter[genre_filter['cast'].astype(str).str.contains(actor_name)]\n",
    "        number_of_movies = actor_filter.value_counts().sum()\n",
    "        actor_genres[genres_list[i]] = number_of_movies\n",
    "    \n",
    "    actor_genres_count = pd.DataFrame(actor_genres, index = np.arange(1) )\n",
    "    actor_genres_count = actor_genres_count.transpose()\n",
    "    actor_genres_count.columns=[\"# of movies\"]\n",
    "    actor_genres_count = actor_genres_count[actor_genres_count[\"# of movies\"] > 0]\n",
    "    \n",
    "    return actor_genres_count.sort_values(by = \"# of movies\",ascending=True)"
   ]
  },
  {
   "cell_type": "markdown",
   "metadata": {},
   "source": [
    "##### 1- Robert De Niro"
   ]
  },
  {
   "cell_type": "code",
   "execution_count": 42,
   "metadata": {},
   "outputs": [
    {
     "data": {
      "image/png": "[encoded data removed]",
      "text/plain": [
       "<Figure size 720x432 with 1 Axes>"
      ]
     },
     "metadata": {
      "needs_background": "light"
     },
     "output_type": "display_data"
    }
   ],
   "source": [
    "Robert_De_Niro_genres = get_actor_genre(\"Robert De Niro\",genres_list)\n",
    "#Robert_De_Niro_genres.plot.pie(y=\"# of movies\",legend=False,figsize=(10,10),title=\"Robert De Niro Top Genres\")\n",
    "fig = plt.figure() \n",
    "fig.set_size_inches(10, 6)\n",
    "squarify.plot(sizes=Robert_De_Niro_genres['# of movies'], label=Robert_De_Niro_genres.index, alpha=0.7,pad = True )\n",
    "plt.title(\"Robert De Niro Top Genres\")\n",
    "\n",
    "plt.axis('off')\n",
    "plt.show()"
   ]
  },
  {
   "cell_type": "markdown",
   "metadata": {},
   "source": [
    "### Summary of the graph : \n",
    "####  Most of the movies of Robert De Niro in :  Drama"
   ]
  },
  {
   "cell_type": "markdown",
   "metadata": {},
   "source": [
    "##### 2- Samuel L. Jackson\t"
   ]
  },
  {
   "cell_type": "code",
   "execution_count": 43,
   "metadata": {},
   "outputs": [
    {
     "data": {
      "image/png": "[encoded data removed]",
      "text/plain": [
       "<Figure size 720x432 with 1 Axes>"
      ]
     },
     "metadata": {
      "needs_background": "light"
     },
     "output_type": "display_data"
    }
   ],
   "source": [
    "Samuel_L_Jackson_genres = get_actor_genre(\"Samuel L. Jackson\",genres_list)\n",
    "#Samuel_L_Jackson_genres.plot.pie(y=\"# of movies\",legend=False,figsize=(10,10),title=\"Samuel L. Jackson Top Genres\")\n",
    "fig = plt.figure() \n",
    "fig.set_size_inches(10, 6)\n",
    "squarify.plot(sizes=Samuel_L_Jackson_genres['# of movies'], label=Samuel_L_Jackson_genres.index, alpha=0.7,pad = True )\n",
    "plt.axis('off')\n",
    "plt.title(\"Samuel L. Jackson Top Genres\")\n",
    "plt.show()"
   ]
  },
  {
   "cell_type": "markdown",
   "metadata": {},
   "source": [
    "### Summary of the graph : \n",
    "####  Most of the movies of Samuel L. Jackson in :  Action"
   ]
  },
  {
   "cell_type": "markdown",
   "metadata": {},
   "source": [
    "#### 3- Bruce Willis"
   ]
  },
  {
   "cell_type": "code",
   "execution_count": 44,
   "metadata": {},
   "outputs": [
    {
     "data": {
      "image/png": "[encoded data removed]",
      "text/plain": [
       "<Figure size 720x432 with 1 Axes>"
      ]
     },
     "metadata": {
      "needs_background": "light"
     },
     "output_type": "display_data"
    }
   ],
   "source": [
    "Bruce_Willis_genres = get_actor_genre(\"Bruce Willis\",genres_list)\n",
    "#Bruce_Willis_genres.plot.pie(y=\"# of movies\",legend=False,figsize=(10,10),title=\"Bruce Willis Top Genres\")\n",
    "fig = plt.figure() \n",
    "fig.set_size_inches(10, 6)\n",
    "squarify.plot(sizes=Bruce_Willis_genres['# of movies'], label=Bruce_Willis_genres.index, alpha=0.7,pad = True )\n",
    "plt.axis('off')\n",
    "plt.title(\"Bruce Willis Top Genres\")\n",
    "plt.show()"
   ]
  },
  {
   "cell_type": "markdown",
   "metadata": {},
   "source": [
    "### Summary of the graph : \n",
    "####  Most of the movies of Bruce Willis in :  Thriller"
   ]
  },
  {
   "cell_type": "markdown",
   "metadata": {},
   "source": [
    "#### 4- Nicolas Cage"
   ]
  },
  {
   "cell_type": "code",
   "execution_count": 45,
   "metadata": {},
   "outputs": [
    {
     "data": {
      "image/png": "[encoded data removed]",
      "text/plain": [
       "<Figure size 720x432 with 1 Axes>"
      ]
     },
     "metadata": {
      "needs_background": "light"
     },
     "output_type": "display_data"
    }
   ],
   "source": [
    "Nicolas_Cage_genres = get_actor_genre(\"Nicolas Cage\",genres_list)\n",
    "#Nicolas_Cage_genres.plot.pie(y=\"# of movies\",legend=False,figsize=(10,10),title=\"Nicolas Cage Top Genres\")\n",
    "fig = plt.figure() \n",
    "fig.set_size_inches(10, 6)\n",
    "squarify.plot(sizes=Nicolas_Cage_genres['# of movies'], label=Nicolas_Cage_genres.index, alpha=0.7,pad = True )\n",
    "plt.axis('off')\n",
    "plt.title(\"Nicolas Cage Top Genres\")\n",
    "plt.show()"
   ]
  },
  {
   "cell_type": "markdown",
   "metadata": {},
   "source": [
    "### Summary of the graph : \n",
    "####  Most of the movies of Nicolas Cage in :  Thriller"
   ]
  },
  {
   "cell_type": "markdown",
   "metadata": {},
   "source": [
    "#### 5- Michael Caine"
   ]
  },
  {
   "cell_type": "code",
   "execution_count": 46,
   "metadata": {},
   "outputs": [
    {
     "data": {
      "image/png": "[encoded data removed]",
      "text/plain": [
       "<Figure size 720x432 with 1 Axes>"
      ]
     },
     "metadata": {
      "needs_background": "light"
     },
     "output_type": "display_data"
    }
   ],
   "source": [
    "Michael_Caine_genres = get_actor_genre(\"Michael Caine\",genres_list)\n",
    "#Michael_Caine_genres.plot.pie(y=\"# of movies\",legend=False,figsize=(10,10),title=\"Michael Caine Top Genres\")\n",
    "fig = plt.figure() \n",
    "fig.set_size_inches(10, 6)\n",
    "squarify.plot(sizes=Michael_Caine_genres['# of movies'], label=Michael_Caine_genres.index, alpha=0.7,pad = True )\n",
    "plt.axis('off')\n",
    "plt.title(\"Michael Caine Top Genres\")\n",
    "plt.show()"
   ]
  },
  {
   "cell_type": "markdown",
   "metadata": {},
   "source": [
    "### Summary of the graph : \n",
    "####  Most of the movies of Michael Caine in :  Drama"
   ]
  },
  {
   "cell_type": "markdown",
   "metadata": {},
   "source": [
    "#### 6 -Robin Williams"
   ]
  },
  {
   "cell_type": "code",
   "execution_count": 47,
   "metadata": {},
   "outputs": [
    {
     "data": {
      "image/png": "[encoded data removed]",
      "text/plain": [
       "<Figure size 720x432 with 1 Axes>"
      ]
     },
     "metadata": {
      "needs_background": "light"
     },
     "output_type": "display_data"
    }
   ],
   "source": [
    "Robin_Williams_genres = get_actor_genre(\"Robin Williams\",genres_list)\n",
    "#Robin_Williams_genres.plot.pie(y=\"# of movies\",legend=False,figsize=(10,10),title=\"Robin Williams Top Genres\")\n",
    "fig = plt.figure() \n",
    "fig.set_size_inches(10, 6)\n",
    "squarify.plot(sizes=Robin_Williams_genres['# of movies'], label=Robin_Williams_genres.index, alpha=0.7,pad = True )\n",
    "plt.axis('off')\n",
    "plt.title(\"Robin Williams Top Genres\")\n",
    "plt.show()"
   ]
  },
  {
   "cell_type": "markdown",
   "metadata": {},
   "source": [
    "### Summary of the graph : \n",
    "####  Most of the movies of Robin Williams in :  Comedy"
   ]
  },
  {
   "cell_type": "markdown",
   "metadata": {},
   "source": [
    "#### 7- Morgan Freeman\t"
   ]
  },
  {
   "cell_type": "code",
   "execution_count": 48,
   "metadata": {},
   "outputs": [
    {
     "data": {
      "image/png": "[encoded data removed]",
      "text/plain": [
       "<Figure size 720x432 with 1 Axes>"
      ]
     },
     "metadata": {
      "needs_background": "light"
     },
     "output_type": "display_data"
    }
   ],
   "source": [
    "Morgan_Freeman_genres = get_actor_genre(\"Morgan Freeman\",genres_list)\n",
    "#Morgan_Freeman_genres.plot.pie(y=\"# of movies\",legend=False,figsize=(10,10),title=\"Morgan Freeman Top Genres\")\n",
    "fig = plt.figure() \n",
    "fig.set_size_inches(10, 6)\n",
    "squarify.plot(sizes=Morgan_Freeman_genres['# of movies'], label=Morgan_Freeman_genres.index, alpha=0.7,pad = True )\n",
    "plt.axis('off')\n",
    "plt.title(\"Morgan Freeman Top Genres\")\n",
    "plt.show()"
   ]
  },
  {
   "cell_type": "markdown",
   "metadata": {},
   "source": [
    "### Summary of the graph : \n",
    "####  Most of the movies of Morgan Freeman in :  Drama"
   ]
  },
  {
   "cell_type": "markdown",
   "metadata": {},
   "source": [
    "#### 8- John Goodman"
   ]
  },
  {
   "cell_type": "code",
   "execution_count": 49,
   "metadata": {},
   "outputs": [
    {
     "data": {
      "image/png": "[encoded data removed]",
      "text/plain": [
       "<Figure size 720x432 with 1 Axes>"
      ]
     },
     "metadata": {
      "needs_background": "light"
     },
     "output_type": "display_data"
    }
   ],
   "source": [
    "John_Goodman_genres = get_actor_genre(\"John Goodman\",genres_list)\n",
    "#John_Goodman_genres.plot.pie(y=\"# of movies\",legend=False,figsize=(10,10),title=\"John Goodman Top Genres\")\n",
    "fig = plt.figure() \n",
    "fig.set_size_inches(10, 6)\n",
    "squarify.plot(sizes=John_Goodman_genres['# of movies'], label=John_Goodman_genres.index, alpha=0.7,pad = True )\n",
    "plt.axis('off')\n",
    "plt.title(\"John Goodman Top Genres\")\n",
    "plt.show()"
   ]
  },
  {
   "cell_type": "markdown",
   "metadata": {},
   "source": [
    "### Summary of the graph : \n",
    "####  Most of the movies of John Goodman in :  Drama"
   ]
  },
  {
   "cell_type": "markdown",
   "metadata": {},
   "source": [
    "#### 9- John Cusack"
   ]
  },
  {
   "cell_type": "code",
   "execution_count": 50,
   "metadata": {},
   "outputs": [
    {
     "data": {
      "image/png": "[encoded data removed]",
      "text/plain": [
       "<Figure size 720x432 with 1 Axes>"
      ]
     },
     "metadata": {
      "needs_background": "light"
     },
     "output_type": "display_data"
    }
   ],
   "source": [
    "John_Cusack_genres = get_actor_genre(\"John Cusack\",genres_list)\n",
    "#John_Cusack_genres.plot.pie(y=\"# of movies\",legend=False,figsize=(10,10),title=\"John Cusack Top Genres\")\n",
    "fig = plt.figure() \n",
    "fig.set_size_inches(10, 6)\n",
    "squarify.plot(sizes=John_Cusack_genres['# of movies'], label=John_Cusack_genres.index, alpha=0.7,pad = True )\n",
    "plt.axis('off')\n",
    "plt.title(\"John Cusack Top Genres\")\n",
    "plt.show()"
   ]
  },
  {
   "cell_type": "markdown",
   "metadata": {},
   "source": [
    "### Summary of the graph : \n",
    "####  Most of the movies of John Cusack in :  Drama"
   ]
  },
  {
   "cell_type": "markdown",
   "metadata": {},
   "source": [
    "#### 10- Susan Sarandon\t"
   ]
  },
  {
   "cell_type": "code",
   "execution_count": 51,
   "metadata": {},
   "outputs": [
    {
     "data": {
      "image/png": "[encoded data removed]",
      "text/plain": [
       "<Figure size 720x432 with 1 Axes>"
      ]
     },
     "metadata": {
      "needs_background": "light"
     },
     "output_type": "display_data"
    }
   ],
   "source": [
    "Susan_Sarandon_genres = get_actor_genre(\"Susan Sarandon\",genres_list)\n",
    "#Susan_Sarandon_genres.plot.pie(y=\"# of movies\",legend=False,figsize=(10,10),title=\"Susan Sarandon Top Genres\")\n",
    "fig = plt.figure() \n",
    "fig.set_size_inches(10, 6)\n",
    "squarify.plot(sizes=Susan_Sarandon_genres['# of movies'], label=Susan_Sarandon_genres.index, alpha=0.7,pad = True )\n",
    "plt.axis('off')\n",
    "plt.title(\"Susan Sarandon Top Genres\")\n",
    "plt.show()"
   ]
  },
  {
   "cell_type": "markdown",
   "metadata": {},
   "source": [
    "### Summary of the graph : \n",
    "####  Most of the movies of Susan Sarandon in :  Drama"
   ]
  },
  {
   "cell_type": "markdown",
   "metadata": {},
   "source": [
    "<a id='conclusion'></a>\n",
    "## Conclusions\n",
    "### Limitatoins : There is no limitations in our dataset"
   ]
  },
  {
   "cell_type": "code",
   "execution_count": null,
   "metadata": {},
   "outputs": [],
   "source": []
  }
 ],
 "metadata": {
  "kernelspec": {
   "display_name": "Python 3",
   "language": "python",
   "name": "python3"
  },
  "language_info": {
   "codemirror_mode": {
    "name": "ipython",
    "version": 3
   },
   "file_extension": ".py",
   "mimetype": "text/x-python",
   "name": "python",
   "nbconvert_exporter": "python",
   "pygments_lexer": "ipython3",
   "version": "3.8.5"
  }
 },
 "nbformat": 4,
 "nbformat_minor": 2
}
